{
 "cells": [
  {
   "cell_type": "markdown",
   "metadata": {},
   "source": [
    "Lets talk about numpy.\n",
    "Numpy is also known as numerical python. We use it for complex computing.\n",
    "\n",
    "ndarrary is an efficient multidimensional array. We use it for fast array-oriented operation, linear algebra, and random number generation, which is written in low-level language and also supports external libraries.\n",
    "\n",
    "Numpy internally stores data in contiguous block of memory independent of built in objects in python. It\n",
    "performs complex computation without any need for \"for\" loops and can be imported by using numpy keyword.\n"
   ]
  },
  {
   "cell_type": "code",
   "execution_count": 1,
   "metadata": {},
   "outputs": [],
   "source": [
    "import numpy as np\n",
    "my_num = np.arange(1000000)"
   ]
  },
  {
   "cell_type": "code",
   "execution_count": 2,
   "metadata": {},
   "outputs": [
    {
     "name": "stdout",
     "output_type": "stream",
     "text": [
      "24.5 ms ± 708 µs per loop (mean ± std. dev. of 7 runs, 10 loops each)\n"
     ]
    }
   ],
   "source": [
    "# Lets see how fast it is \n",
    "import time\n",
    "%timeit num_time = np.arange(5000000)"
   ]
  },
  {
   "cell_type": "code",
   "execution_count": 3,
   "metadata": {},
   "outputs": [
    {
     "name": "stdout",
     "output_type": "stream",
     "text": [
      "610 ns ± 40 ns per loop (mean ± std. dev. of 7 runs, 1000000 loops each)\n"
     ]
    }
   ],
   "source": [
    "%timeit num_normal = range(5000000)"
   ]
  },
  {
   "cell_type": "code",
   "execution_count": 4,
   "metadata": {},
   "outputs": [
    {
     "data": {
      "text/plain": [
       "array([[-1.61374502,  0.81016219, -0.26671734],\n",
       "       [-1.03767748,  0.2647377 , -0.48965489]])"
      ]
     },
     "execution_count": 4,
     "metadata": {},
     "output_type": "execute_result"
    }
   ],
   "source": [
    "data = np.random.randn(2,3)\n",
    "data # Your data will defer"
   ]
  },
  {
   "cell_type": "code",
   "execution_count": 5,
   "metadata": {},
   "outputs": [
    {
     "data": {
      "text/plain": [
       "array([[-16.13745022,   8.10162188,  -2.66717343],\n",
       "       [-10.37677478,   2.64737705,  -4.89654888]])"
      ]
     },
     "execution_count": 5,
     "metadata": {},
     "output_type": "execute_result"
    }
   ],
   "source": [
    "#lets do some mathmatical operations\n",
    "data*10 "
   ]
  },
  {
   "cell_type": "code",
   "execution_count": 6,
   "metadata": {},
   "outputs": [
    {
     "data": {
      "text/plain": [
       "array([[-3.22749004,  1.62032438, -0.53343469],\n",
       "       [-2.07535496,  0.52947541, -0.97930978]])"
      ]
     },
     "execution_count": 6,
     "metadata": {},
     "output_type": "execute_result"
    }
   ],
   "source": [
    "data + data"
   ]
  },
  {
   "cell_type": "code",
   "execution_count": 7,
   "metadata": {},
   "outputs": [
    {
     "data": {
      "text/plain": [
       "(2, 3)"
      ]
     },
     "execution_count": 7,
     "metadata": {},
     "output_type": "execute_result"
    }
   ],
   "source": [
    "data.shape # Shape of data"
   ]
  },
  {
   "cell_type": "code",
   "execution_count": 8,
   "metadata": {},
   "outputs": [
    {
     "data": {
      "text/plain": [
       "dtype('float64')"
      ]
     },
     "execution_count": 8,
     "metadata": {},
     "output_type": "execute_result"
    }
   ],
   "source": [
    "data.dtype # Type of data"
   ]
  },
  {
   "cell_type": "code",
   "execution_count": 9,
   "metadata": {},
   "outputs": [
    {
     "data": {
      "text/plain": [
       "array([1, 2, 3, 3, 4, 5])"
      ]
     },
     "execution_count": 9,
     "metadata": {},
     "output_type": "execute_result"
    }
   ],
   "source": [
    "# You can create an numpy array from a data\n",
    "data = [1,2,3,3,4,5,]\n",
    "arr1 = np.array(data)\n",
    "arr1"
   ]
  },
  {
   "cell_type": "code",
   "execution_count": 10,
   "metadata": {},
   "outputs": [
    {
     "data": {
      "text/plain": [
       "array([[1, 2, 3, 4],\n",
       "       [1, 2, 3, 5]])"
      ]
     },
     "execution_count": 10,
     "metadata": {},
     "output_type": "execute_result"
    }
   ],
   "source": [
    "# Nested sequences, like a list of equal-length lists, will be converted into a multidimensional array:\n",
    "\n",
    "data1 = [[1,2,3,4],[1,2,3,5]]\n",
    "arr2 = np.array(data1)\n",
    "arr2"
   ]
  },
  {
   "cell_type": "code",
   "execution_count": 11,
   "metadata": {},
   "outputs": [
    {
     "data": {
      "text/plain": [
       "2"
      ]
     },
     "execution_count": 11,
     "metadata": {},
     "output_type": "execute_result"
    }
   ],
   "source": [
    "# Gives the dimension \n",
    "arr2.ndim"
   ]
  },
  {
   "cell_type": "code",
   "execution_count": 12,
   "metadata": {},
   "outputs": [
    {
     "data": {
      "text/plain": [
       "(2, 4)"
      ]
     },
     "execution_count": 12,
     "metadata": {},
     "output_type": "execute_result"
    }
   ],
   "source": [
    "arr2.shape"
   ]
  },
  {
   "cell_type": "code",
   "execution_count": 13,
   "metadata": {
    "scrolled": true
   },
   "outputs": [
    {
     "data": {
      "text/plain": [
       "array([[[6.23042070e-307, 4.67296746e-307, 1.69121096e-306,\n",
       "         9.34599604e-307],\n",
       "        [7.56587584e-307, 1.37961302e-306, 1.05699242e-307,\n",
       "         8.01097889e-307],\n",
       "        [1.78020169e-306, 7.56601165e-307, 1.02359984e-306,\n",
       "         1.33510679e-306]],\n",
       "\n",
       "       [[2.22522597e-306, 1.33511018e-306, 6.23057689e-307,\n",
       "         8.45597329e-307],\n",
       "        [8.45559303e-307, 8.06612616e-308, 6.89810244e-307,\n",
       "         1.22387550e-307],\n",
       "        [2.22522596e-306, 8.34423917e-308, 1.11261162e-306,\n",
       "         1.78021527e-306]]])"
      ]
     },
     "execution_count": 13,
     "metadata": {},
     "output_type": "execute_result"
    }
   ],
   "source": [
    "np.zeros(10)\n",
    "np.empty((2,3,4)) #Meaning 2 Matrices of 3x4"
   ]
  },
  {
   "attachments": {
    "image.png": {
     "image/png": "[encoded data removed]"
    }
   },
   "cell_type": "markdown",
   "metadata": {},
   "source": [
    "![image.png](attachment:image.png)"
   ]
  },
  {
   "cell_type": "code",
   "execution_count": 14,
   "metadata": {},
   "outputs": [
    {
     "data": {
      "text/plain": [
       "dtype('int32')"
      ]
     },
     "execution_count": 14,
     "metadata": {},
     "output_type": "execute_result"
    }
   ],
   "source": [
    "import numpy as np\n",
    "arr = np.array([1,2,3,4,5])\n",
    "arr.dtype"
   ]
  },
  {
   "cell_type": "code",
   "execution_count": 15,
   "metadata": {},
   "outputs": [
    {
     "data": {
      "text/plain": [
       "array([1., 2., 3., 4., 5.])"
      ]
     },
     "execution_count": 15,
     "metadata": {},
     "output_type": "execute_result"
    }
   ],
   "source": [
    "# To convert one dtype to another\n",
    "float_arr = arr.astype(np.float64)\n",
    "float_arr"
   ]
  },
  {
   "cell_type": "code",
   "execution_count": 16,
   "metadata": {},
   "outputs": [
    {
     "data": {
      "text/plain": [
       "array([ 3, 42, 21,  4], dtype=uint8)"
      ]
     },
     "execution_count": 16,
     "metadata": {},
     "output_type": "execute_result"
    }
   ],
   "source": [
    "# Another example\n",
    "arr = np.array([3.3,42.3,21.3,4.6])\n",
    "arr.astype(np.uint8)"
   ]
  },
  {
   "attachments": {
    "image.png": {
     "image/png": "[encoded data removed]"
    }
   },
   "cell_type": "markdown",
   "metadata": {},
   "source": [
    "![image.png](attachment:image.png)"
   ]
  },
  {
   "cell_type": "code",
   "execution_count": 17,
   "metadata": {},
   "outputs": [
    {
     "data": {
      "text/plain": [
       "array([1.25, 3.5 , 3.5 ])"
      ]
     },
     "execution_count": 17,
     "metadata": {},
     "output_type": "execute_result"
    }
   ],
   "source": [
    "# Convert a array of string into number\n",
    "numerica_strings = np.array(['1.25','3.5','3.5'], dtype=np.string_)\n",
    "numerica_strings.astype(np.float64)"
   ]
  },
  {
   "cell_type": "code",
   "execution_count": 18,
   "metadata": {},
   "outputs": [
    {
     "data": {
      "text/plain": [
       "array([         0,          0,         19,          0,       1956,\n",
       "       2215207936, 1495602900,        311], dtype=uint32)"
      ]
     },
     "execution_count": 18,
     "metadata": {},
     "output_type": "execute_result"
    }
   ],
   "source": [
    "empty_uint32 = np.empty(8,dtype = 'u4')\n",
    "empty_uint32"
   ]
  },
  {
   "cell_type": "markdown",
   "metadata": {},
   "source": [
    "### Arithmetic with Numpy Arrays"
   ]
  },
  {
   "cell_type": "code",
   "execution_count": 19,
   "metadata": {},
   "outputs": [
    {
     "data": {
      "text/plain": [
       "array([[   1.44,    4.  ,    1.44],\n",
       "       [  18.49, 1190.25,   18.49]])"
      ]
     },
     "execution_count": 19,
     "metadata": {},
     "output_type": "execute_result"
    }
   ],
   "source": [
    "arr = np.array([[1.2,2,1.2],[4.3,34.5,4.3]])\n",
    "arr*arr"
   ]
  },
  {
   "cell_type": "code",
   "execution_count": 20,
   "metadata": {},
   "outputs": [
    {
     "data": {
      "text/plain": [
       "array([[0., 0., 0.],\n",
       "       [0., 0., 0.]])"
      ]
     },
     "execution_count": 20,
     "metadata": {},
     "output_type": "execute_result"
    }
   ],
   "source": [
    "arr -arr"
   ]
  },
  {
   "cell_type": "code",
   "execution_count": 21,
   "metadata": {},
   "outputs": [
    {
     "data": {
      "text/plain": [
       "array([[0.83333333, 0.5       , 0.83333333],\n",
       "       [0.23255814, 0.02898551, 0.23255814]])"
      ]
     },
     "execution_count": 21,
     "metadata": {},
     "output_type": "execute_result"
    }
   ],
   "source": [
    "1/arr"
   ]
  },
  {
   "cell_type": "code",
   "execution_count": 22,
   "metadata": {},
   "outputs": [
    {
     "data": {
      "text/plain": [
       "array([[1.09544512, 1.41421356, 1.09544512],\n",
       "       [2.07364414, 5.87367006, 2.07364414]])"
      ]
     },
     "execution_count": 22,
     "metadata": {},
     "output_type": "execute_result"
    }
   ],
   "source": [
    "arr**0.5"
   ]
  },
  {
   "cell_type": "code",
   "execution_count": 23,
   "metadata": {},
   "outputs": [
    {
     "data": {
      "text/plain": [
       "array([[False,  True,  True],\n",
       "       [False, False,  True]])"
      ]
     },
     "execution_count": 23,
     "metadata": {},
     "output_type": "execute_result"
    }
   ],
   "source": [
    "# You can compare its values also \n",
    "arr1 = np.array([[1.2,2.3,21.1],[3.2,4.5,5.6]])\n",
    "arr1 > arr"
   ]
  },
  {
   "cell_type": "code",
   "execution_count": 24,
   "metadata": {},
   "outputs": [],
   "source": [
    "# Slicing and indexing\n",
    "arr = np.arange(10)"
   ]
  },
  {
   "cell_type": "code",
   "execution_count": 25,
   "metadata": {},
   "outputs": [
    {
     "data": {
      "text/plain": [
       "6"
      ]
     },
     "execution_count": 25,
     "metadata": {},
     "output_type": "execute_result"
    }
   ],
   "source": [
    "arr[6]"
   ]
  },
  {
   "cell_type": "code",
   "execution_count": 26,
   "metadata": {},
   "outputs": [
    {
     "data": {
      "text/plain": [
       "array([5, 6])"
      ]
     },
     "execution_count": 26,
     "metadata": {},
     "output_type": "execute_result"
    }
   ],
   "source": [
    "arr[5:7]"
   ]
  },
  {
   "cell_type": "code",
   "execution_count": 27,
   "metadata": {},
   "outputs": [],
   "source": [
    "arr[5:7] = 14"
   ]
  },
  {
   "cell_type": "code",
   "execution_count": 28,
   "metadata": {},
   "outputs": [
    {
     "data": {
      "text/plain": [
       "array([ 0,  1,  2,  3,  4, 14, 14,  7,  8,  9])"
      ]
     },
     "execution_count": 28,
     "metadata": {},
     "output_type": "execute_result"
    }
   ],
   "source": [
    "arr"
   ]
  },
  {
   "cell_type": "code",
   "execution_count": 29,
   "metadata": {},
   "outputs": [
    {
     "data": {
      "text/plain": [
       "array([ 0,  1,  2,  3,  4, 14, 14,  7,  8,  9])"
      ]
     },
     "execution_count": 29,
     "metadata": {},
     "output_type": "execute_result"
    }
   ],
   "source": [
    "arr[:] # This will also return the output"
   ]
  },
  {
   "cell_type": "code",
   "execution_count": 30,
   "metadata": {},
   "outputs": [
    {
     "data": {
      "text/plain": [
       "array([7, 8, 9])"
      ]
     },
     "execution_count": 30,
     "metadata": {},
     "output_type": "execute_result"
    }
   ],
   "source": [
    "arr =np.array([[1, 2, 3], [4, 5, 6], [7, 8, 9]])\n",
    "arr[2] # First it chooses the list "
   ]
  },
  {
   "cell_type": "code",
   "execution_count": 31,
   "metadata": {},
   "outputs": [
    {
     "data": {
      "text/plain": [
       "3"
      ]
     },
     "execution_count": 31,
     "metadata": {},
     "output_type": "execute_result"
    }
   ],
   "source": [
    "arr[0][2] # First number choosing the first list and the second number to choose the element inside the nested list"
   ]
  },
  {
   "cell_type": "code",
   "execution_count": 32,
   "metadata": {},
   "outputs": [
    {
     "data": {
      "text/plain": [
       "array([[1, 2, 3],\n",
       "       [4, 5, 6]])"
      ]
     },
     "execution_count": 32,
     "metadata": {},
     "output_type": "execute_result"
    }
   ],
   "source": [
    "# More example\n",
    "arr3d = np.array([[[1, 2, 3], [4, 5, 6]], [[7, 8, 9], [10, 11, 12]]])\n",
    "arr3d[0] # As there are three nested loop of 2x3x4 which is a 3d matrix so the first element will return the first nested listz"
   ]
  },
  {
   "cell_type": "code",
   "execution_count": 33,
   "metadata": {},
   "outputs": [
    {
     "data": {
      "text/plain": [
       "array([4, 5, 6])"
      ]
     },
     "execution_count": 33,
     "metadata": {},
     "output_type": "execute_result"
    }
   ],
   "source": [
    "arr3d[0][1] # Returns the 1st list inside a nested list"
   ]
  },
  {
   "cell_type": "code",
   "execution_count": 34,
   "metadata": {},
   "outputs": [
    {
     "data": {
      "text/plain": [
       "6"
      ]
     },
     "execution_count": 34,
     "metadata": {},
     "output_type": "execute_result"
    }
   ],
   "source": [
    "arr3d[0][1][2] # Gives the element inside the nested list "
   ]
  },
  {
   "cell_type": "code",
   "execution_count": 35,
   "metadata": {},
   "outputs": [],
   "source": [
    "# Indexing \n",
    "index = np.arange(10)\n",
    "index[1:6]\n",
    "# Lets try with 2D\n",
    "arr2d = np.array([[1, 2, 3], [4, 5, 6], [7, 8, 9]])"
   ]
  },
  {
   "cell_type": "code",
   "execution_count": 36,
   "metadata": {},
   "outputs": [
    {
     "data": {
      "text/plain": [
       "array([[1, 2, 3],\n",
       "       [4, 5, 6]])"
      ]
     },
     "execution_count": 36,
     "metadata": {},
     "output_type": "execute_result"
    }
   ],
   "source": [
    "arr2d[:2]"
   ]
  },
  {
   "cell_type": "code",
   "execution_count": 37,
   "metadata": {},
   "outputs": [
    {
     "data": {
      "text/plain": [
       "array([[2, 3],\n",
       "       [5, 6]])"
      ]
     },
     "execution_count": 37,
     "metadata": {},
     "output_type": "execute_result"
    }
   ],
   "source": [
    "arr2d[:2,1:] "
   ]
  },
  {
   "cell_type": "code",
   "execution_count": 38,
   "metadata": {},
   "outputs": [
    {
     "data": {
      "text/plain": [
       "array([4, 5])"
      ]
     },
     "execution_count": 38,
     "metadata": {},
     "output_type": "execute_result"
    }
   ],
   "source": [
    "arr2d[1,:2]"
   ]
  },
  {
   "cell_type": "code",
   "execution_count": 39,
   "metadata": {},
   "outputs": [
    {
     "data": {
      "text/plain": [
       "array([[2, 3],\n",
       "       [5, 6],\n",
       "       [8, 9]])"
      ]
     },
     "execution_count": 39,
     "metadata": {},
     "output_type": "execute_result"
    }
   ],
   "source": [
    "arr2d[:,1:]"
   ]
  },
  {
   "cell_type": "code",
   "execution_count": 40,
   "metadata": {},
   "outputs": [
    {
     "data": {
      "text/plain": [
       "array([[1],\n",
       "       [4],\n",
       "       [7]])"
      ]
     },
     "execution_count": 40,
     "metadata": {},
     "output_type": "execute_result"
    }
   ],
   "source": [
    "arr2d[:,:1]"
   ]
  },
  {
   "attachments": {
    "image.png": {
     "image/png": "[encoded data removed]"
    }
   },
   "cell_type": "markdown",
   "metadata": {},
   "source": [
    "![image.png](attachment:image.png)"
   ]
  },
  {
   "cell_type": "code",
   "execution_count": 41,
   "metadata": {},
   "outputs": [],
   "source": [
    "# lets talk about Boolean Indexing Which is qutie interesting actually\n",
    "names = np.array(['Bob', 'Joe', 'Will', 'Bob', 'Will', 'Joe', 'Joe'])\n",
    "data = np.random.randn(7, 4)\n"
   ]
  },
  {
   "cell_type": "code",
   "execution_count": 42,
   "metadata": {},
   "outputs": [
    {
     "data": {
      "text/plain": [
       "array([[ 0.76887653, -0.31776623,  1.22043327, -0.57872937],\n",
       "       [ 0.25668577,  0.4676328 , -1.62619198, -0.94556346],\n",
       "       [ 0.60540721, -0.33456906,  0.79989704, -1.0528421 ],\n",
       "       [ 0.23426575, -0.20986153, -1.09708932, -0.36768928],\n",
       "       [-0.3236932 , -0.15823555,  1.03144815,  0.80565669],\n",
       "       [-0.8069961 ,  0.25923996,  0.08890546, -0.16533894],\n",
       "       [ 1.28200506, -0.20841302,  0.04882244,  0.24452717]])"
      ]
     },
     "execution_count": 42,
     "metadata": {},
     "output_type": "execute_result"
    }
   ],
   "source": [
    "data"
   ]
  },
  {
   "cell_type": "code",
   "execution_count": 43,
   "metadata": {},
   "outputs": [
    {
     "data": {
      "text/plain": [
       "(7, 4)"
      ]
     },
     "execution_count": 43,
     "metadata": {},
     "output_type": "execute_result"
    }
   ],
   "source": [
    "data.shape"
   ]
  },
  {
   "cell_type": "code",
   "execution_count": 44,
   "metadata": {},
   "outputs": [
    {
     "data": {
      "text/plain": [
       "array([ True, False, False,  True, False, False, False])"
      ]
     },
     "execution_count": 44,
     "metadata": {},
     "output_type": "execute_result"
    }
   ],
   "source": [
    "names =='Bob' # Return True for the value if available in names\n"
   ]
  },
  {
   "cell_type": "markdown",
   "metadata": {},
   "source": [
    "Let us do a different operation for the same data.\n",
    "Here, you may think I have used a string to check the value. But actually, I have used boolean to do the operation."
   ]
  },
  {
   "cell_type": "code",
   "execution_count": 45,
   "metadata": {},
   "outputs": [
    {
     "data": {
      "text/plain": [
       "array([[ 0.76887653, -0.31776623,  1.22043327, -0.57872937],\n",
       "       [ 0.23426575, -0.20986153, -1.09708932, -0.36768928]])"
      ]
     },
     "execution_count": 45,
     "metadata": {},
     "output_type": "execute_result"
    }
   ],
   "source": [
    "data[names=='Bob'] # == means comparision with array which are vectorized and yields a boolearn array\n",
    "#so the data will return the values which are true for the value \n"
   ]
  },
  {
   "cell_type": "code",
   "execution_count": 46,
   "metadata": {},
   "outputs": [
    {
     "data": {
      "text/plain": [
       "(2, 4)"
      ]
     },
     "execution_count": 46,
     "metadata": {},
     "output_type": "execute_result"
    }
   ],
   "source": [
    "data[names=='Bob'].shape"
   ]
  },
  {
   "cell_type": "code",
   "execution_count": 47,
   "metadata": {},
   "outputs": [
    {
     "data": {
      "text/plain": [
       "array([[ 1.22043327, -0.57872937],\n",
       "       [-1.09708932, -0.36768928]])"
      ]
     },
     "execution_count": 47,
     "metadata": {},
     "output_type": "execute_result"
    }
   ],
   "source": [
    "# You can slice the above value also\n",
    "data[names=='Bob',2:]"
   ]
  },
  {
   "cell_type": "code",
   "execution_count": 48,
   "metadata": {},
   "outputs": [
    {
     "data": {
      "text/plain": [
       "array([-0.57872937, -0.36768928])"
      ]
     },
     "execution_count": 48,
     "metadata": {},
     "output_type": "execute_result"
    }
   ],
   "source": [
    "data[names == 'Bob',3]"
   ]
  },
  {
   "cell_type": "code",
   "execution_count": 49,
   "metadata": {},
   "outputs": [
    {
     "data": {
      "text/plain": [
       "array([False,  True,  True, False,  True,  True,  True])"
      ]
     },
     "execution_count": 49,
     "metadata": {},
     "output_type": "execute_result"
    }
   ],
   "source": [
    "names != 'Bob' # Returns the values which are not true as TRUE"
   ]
  },
  {
   "cell_type": "code",
   "execution_count": 50,
   "metadata": {},
   "outputs": [
    {
     "data": {
      "text/plain": [
       "array([[ 0.25668577,  0.4676328 , -1.62619198, -0.94556346],\n",
       "       [ 0.60540721, -0.33456906,  0.79989704, -1.0528421 ],\n",
       "       [-0.3236932 , -0.15823555,  1.03144815,  0.80565669],\n",
       "       [-0.8069961 ,  0.25923996,  0.08890546, -0.16533894],\n",
       "       [ 1.28200506, -0.20841302,  0.04882244,  0.24452717]])"
      ]
     },
     "execution_count": 50,
     "metadata": {},
     "output_type": "execute_result"
    }
   ],
   "source": [
    "# You can also do the same operation by negate the condition ~ :\n",
    "data[~(names == 'Bob')]"
   ]
  },
  {
   "cell_type": "code",
   "execution_count": 51,
   "metadata": {},
   "outputs": [
    {
     "data": {
      "text/plain": [
       "(5, 4)"
      ]
     },
     "execution_count": 51,
     "metadata": {},
     "output_type": "execute_result"
    }
   ],
   "source": [
    "data[~(names == 'Bob')].shape # Inverts the condition where it implies"
   ]
  },
  {
   "cell_type": "markdown",
   "metadata": {},
   "source": [
    "Selecting two of the three names to combine multiple boolean conditions, use boolean arithmetic operators like & (and) and | (or):"
   ]
  },
  {
   "cell_type": "code",
   "execution_count": 52,
   "metadata": {},
   "outputs": [],
   "source": [
    "mask = (names == 'Bob') | (names == 'Will') # Where these values are being assingned to mask"
   ]
  },
  {
   "cell_type": "code",
   "execution_count": 53,
   "metadata": {},
   "outputs": [
    {
     "data": {
      "text/plain": [
       "array([ True, False,  True,  True,  True, False, False])"
      ]
     },
     "execution_count": 53,
     "metadata": {},
     "output_type": "execute_result"
    }
   ],
   "source": [
    "mask # Returns True for every Value which are Bob and Will "
   ]
  },
  {
   "cell_type": "code",
   "execution_count": 54,
   "metadata": {},
   "outputs": [],
   "source": [
    "data[data < 0] = 0"
   ]
  },
  {
   "cell_type": "code",
   "execution_count": 55,
   "metadata": {},
   "outputs": [
    {
     "data": {
      "text/plain": [
       "array([[0.76887653, 0.        , 1.22043327, 0.        ],\n",
       "       [0.25668577, 0.4676328 , 0.        , 0.        ],\n",
       "       [0.60540721, 0.        , 0.79989704, 0.        ],\n",
       "       [0.23426575, 0.        , 0.        , 0.        ],\n",
       "       [0.        , 0.        , 1.03144815, 0.80565669],\n",
       "       [0.        , 0.25923996, 0.08890546, 0.        ],\n",
       "       [1.28200506, 0.        , 0.04882244, 0.24452717]])"
      ]
     },
     "execution_count": 55,
     "metadata": {},
     "output_type": "execute_result"
    }
   ],
   "source": [
    "data"
   ]
  },
  {
   "cell_type": "code",
   "execution_count": 56,
   "metadata": {},
   "outputs": [],
   "source": [
    "data[names != 'Joe'] = 7 # The Number 7 "
   ]
  },
  {
   "cell_type": "code",
   "execution_count": 57,
   "metadata": {},
   "outputs": [
    {
     "data": {
      "text/plain": [
       "array([[7.        , 7.        , 7.        , 7.        ],\n",
       "       [0.25668577, 0.4676328 , 0.        , 0.        ],\n",
       "       [7.        , 7.        , 7.        , 7.        ],\n",
       "       [7.        , 7.        , 7.        , 7.        ],\n",
       "       [7.        , 7.        , 7.        , 7.        ],\n",
       "       [0.        , 0.25923996, 0.08890546, 0.        ],\n",
       "       [1.28200506, 0.        , 0.04882244, 0.24452717]])"
      ]
     },
     "execution_count": 57,
     "metadata": {},
     "output_type": "execute_result"
    }
   ],
   "source": [
    "data # Now this returns 7 for every value which are not Joe"
   ]
  },
  {
   "cell_type": "markdown",
   "metadata": {},
   "source": [
    "    Fancy Indexing"
   ]
  },
  {
   "cell_type": "code",
   "execution_count": 58,
   "metadata": {},
   "outputs": [
    {
     "data": {
      "text/plain": [
       "array([[0., 0., 0., 0.],\n",
       "       [1., 1., 1., 1.],\n",
       "       [2., 2., 2., 2.],\n",
       "       [3., 3., 3., 3.],\n",
       "       [4., 4., 4., 4.],\n",
       "       [5., 5., 5., 5.],\n",
       "       [6., 6., 6., 6.],\n",
       "       [7., 7., 7., 7.]])"
      ]
     },
     "execution_count": 58,
     "metadata": {},
     "output_type": "execute_result"
    }
   ],
   "source": [
    "arr = np.empty((8,4))\n",
    "for i in range(8):\n",
    "    arr[i] = i\n",
    "arr"
   ]
  },
  {
   "cell_type": "code",
   "execution_count": 59,
   "metadata": {},
   "outputs": [
    {
     "data": {
      "text/plain": [
       "array([[4., 4., 4., 4.],\n",
       "       [3., 3., 3., 3.],\n",
       "       [2., 2., 2., 2.],\n",
       "       [6., 6., 6., 6.]])"
      ]
     },
     "execution_count": 59,
     "metadata": {},
     "output_type": "execute_result"
    }
   ],
   "source": [
    "arr[[4,3,2,6]] # To select out the subset of a row"
   ]
  },
  {
   "cell_type": "code",
   "execution_count": 60,
   "metadata": {},
   "outputs": [
    {
     "data": {
      "text/plain": [
       "array([[5., 5., 5., 5.],\n",
       "       [3., 3., 3., 3.],\n",
       "       [7., 7., 7., 7.]])"
      ]
     },
     "execution_count": 60,
     "metadata": {},
     "output_type": "execute_result"
    }
   ],
   "source": [
    "arr[[-3,-5,-1]]"
   ]
  },
  {
   "cell_type": "code",
   "execution_count": 61,
   "metadata": {},
   "outputs": [],
   "source": [
    "arr = np.arange(32).reshape(8,4)"
   ]
  },
  {
   "cell_type": "code",
   "execution_count": 62,
   "metadata": {},
   "outputs": [
    {
     "data": {
      "text/plain": [
       "array([[ 0,  1,  2,  3],\n",
       "       [ 4,  5,  6,  7],\n",
       "       [ 8,  9, 10, 11],\n",
       "       [12, 13, 14, 15],\n",
       "       [16, 17, 18, 19],\n",
       "       [20, 21, 22, 23],\n",
       "       [24, 25, 26, 27],\n",
       "       [28, 29, 30, 31]])"
      ]
     },
     "execution_count": 62,
     "metadata": {},
     "output_type": "execute_result"
    }
   ],
   "source": [
    "arr"
   ]
  },
  {
   "cell_type": "code",
   "execution_count": 63,
   "metadata": {},
   "outputs": [
    {
     "data": {
      "text/plain": [
       "array([ 4, 23, 29, 10])"
      ]
     },
     "execution_count": 63,
     "metadata": {},
     "output_type": "execute_result"
    }
   ],
   "source": [
    "arr[[1, 5, 7, 2], [0, 3, 1, 2]] # Here the elements (1, 0), (5, 3), (7, 1), and (2, 2) were selected."
   ]
  },
  {
   "cell_type": "code",
   "execution_count": 64,
   "metadata": {},
   "outputs": [
    {
     "data": {
      "text/plain": [
       "array([[ 4,  7,  5,  6],\n",
       "       [20, 23, 21, 22],\n",
       "       [28, 31, 29, 30],\n",
       "       [ 8, 11,  9, 10]])"
      ]
     },
     "execution_count": 64,
     "metadata": {},
     "output_type": "execute_result"
    }
   ],
   "source": [
    "arr[[1, 5, 7, 2]][:, [0, 3, 1, 2]] # (1,0),(1,3)(1,1)(1,2);(5,0),(5,3)..."
   ]
  },
  {
   "cell_type": "markdown",
   "metadata": {},
   "source": [
    "Keep in mind that fancy indexing, unlike slicing, always copies the data into a new array."
   ]
  },
  {
   "cell_type": "markdown",
   "metadata": {},
   "source": [
    "### Transposing Arrays and Swapping Axes\n",
    "Transposing is a special form of reshaping that similarly returns a view on the underlying data without copying anything"
   ]
  },
  {
   "cell_type": "code",
   "execution_count": 65,
   "metadata": {},
   "outputs": [],
   "source": [
    "arr5 = np.arange(15).reshape(3,5)"
   ]
  },
  {
   "cell_type": "code",
   "execution_count": 66,
   "metadata": {},
   "outputs": [
    {
     "data": {
      "text/plain": [
       "array([[ 0,  1,  2,  3,  4],\n",
       "       [ 5,  6,  7,  8,  9],\n",
       "       [10, 11, 12, 13, 14]])"
      ]
     },
     "execution_count": 66,
     "metadata": {},
     "output_type": "execute_result"
    }
   ],
   "source": [
    "arr5"
   ]
  },
  {
   "cell_type": "code",
   "execution_count": 67,
   "metadata": {},
   "outputs": [
    {
     "data": {
      "text/plain": [
       "array([[ 0,  5, 10],\n",
       "       [ 1,  6, 11],\n",
       "       [ 2,  7, 12],\n",
       "       [ 3,  8, 13],\n",
       "       [ 4,  9, 14]])"
      ]
     },
     "execution_count": 67,
     "metadata": {},
     "output_type": "execute_result"
    }
   ],
   "source": [
    "arr5.T"
   ]
  },
  {
   "cell_type": "code",
   "execution_count": 68,
   "metadata": {},
   "outputs": [],
   "source": [
    "arr = np.random.randn(6,3)"
   ]
  },
  {
   "cell_type": "markdown",
   "metadata": {},
   "source": [
    "randn() function: This function return a sample (or samples) from the “standard normal” distribution. A single float randomly sampled from the distribution is returned if no argument is provided. This is a convenience function. If you want an interface that takes a tuple as the first argument, use numpy. random."
   ]
  },
  {
   "cell_type": "code",
   "execution_count": 69,
   "metadata": {},
   "outputs": [
    {
     "data": {
      "text/plain": [
       "array([[-0.96037466,  0.77281212,  0.14325636],\n",
       "       [ 0.77911814,  0.65400899,  1.00039006],\n",
       "       [ 0.26869541, -0.66248018, -1.59376889],\n",
       "       [-0.54663733,  0.94880101, -0.52853585],\n",
       "       [-1.64896451,  0.64750983, -0.59229658],\n",
       "       [ 1.36581728,  1.39356871, -0.58647428]])"
      ]
     },
     "execution_count": 69,
     "metadata": {},
     "output_type": "execute_result"
    }
   ],
   "source": [
    "arr"
   ]
  },
  {
   "cell_type": "code",
   "execution_count": 70,
   "metadata": {},
   "outputs": [
    {
     "data": {
      "text/plain": [
       "array([[ 6.48489494, -0.09365485,  0.67818064],\n",
       "       [-0.09365485,  4.72537241,  0.11852924],\n",
       "       [ 0.67818064,  0.11852924,  4.5355194 ]])"
      ]
     },
     "execution_count": 70,
     "metadata": {},
     "output_type": "execute_result"
    }
   ],
   "source": [
    "np.dot(arr.T,arr) # Dot product"
   ]
  },
  {
   "cell_type": "markdown",
   "metadata": {},
   "source": [
    "For higher dimensional arrays, the transpose will accept a tuple of numbers to permute the axes"
   ]
  },
  {
   "cell_type": "code",
   "execution_count": 71,
   "metadata": {},
   "outputs": [
    {
     "data": {
      "text/plain": [
       "array([[[ 0,  1,  2,  3],\n",
       "        [ 4,  5,  6,  7]],\n",
       "\n",
       "       [[ 8,  9, 10, 11],\n",
       "        [12, 13, 14, 15]]])"
      ]
     },
     "execution_count": 71,
     "metadata": {},
     "output_type": "execute_result"
    }
   ],
   "source": [
    "arr  = np.arange(16).reshape(2,2,4) # Meaning 2 matrices of 2x4\n",
    "arr"
   ]
  },
  {
   "cell_type": "code",
   "execution_count": 72,
   "metadata": {
    "scrolled": true
   },
   "outputs": [
    {
     "data": {
      "text/plain": [
       "array([[[ 0,  1,  2,  3],\n",
       "        [ 8,  9, 10, 11]],\n",
       "\n",
       "       [[ 4,  5,  6,  7],\n",
       "        [12, 13, 14, 15]]])"
      ]
     },
     "execution_count": 72,
     "metadata": {},
     "output_type": "execute_result"
    }
   ],
   "source": [
    "arr.transpose(1,0,2) # Axis has been reordered with the sec axis first, the first axis second the last axis unchanged"
   ]
  },
  {
   "cell_type": "markdown",
   "metadata": {},
   "source": [
    "Simple transposing with .T is a special case of swapping axes. \n",
    "ndarray has the method swapaxes, which takes a pair of axis numbers and switches the indicated axes to rearrange the data"
   ]
  },
  {
   "cell_type": "code",
   "execution_count": 73,
   "metadata": {},
   "outputs": [
    {
     "data": {
      "text/plain": [
       "array([[[ 0,  4],\n",
       "        [ 1,  5],\n",
       "        [ 2,  6],\n",
       "        [ 3,  7]],\n",
       "\n",
       "       [[ 8, 12],\n",
       "        [ 9, 13],\n",
       "        [10, 14],\n",
       "        [11, 15]]])"
      ]
     },
     "execution_count": 73,
     "metadata": {},
     "output_type": "execute_result"
    }
   ],
   "source": [
    "arr.swapaxes(1,2)"
   ]
  },
  {
   "cell_type": "markdown",
   "metadata": {},
   "source": [
    "### Universal Functions: Fast Element-Wise Array Functions\n",
    "A universal function, or ufunc, is a function that performs element-wise operations\n",
    "on data in ndarrays. You can think of them as fast vectorized wrappers for simple\n",
    "functions that take one or more scalar values and produce one or more scalar results."
   ]
  },
  {
   "cell_type": "code",
   "execution_count": 74,
   "metadata": {},
   "outputs": [],
   "source": [
    "arr = np.random.randn(10)"
   ]
  },
  {
   "cell_type": "code",
   "execution_count": 75,
   "metadata": {},
   "outputs": [
    {
     "data": {
      "text/plain": [
       "array([ 1.19660175, -0.16933594,  0.11447933, -0.66296422,  0.01910819,\n",
       "        0.32249788, -0.32114126, -0.3131599 , -0.85143889, -0.44503331])"
      ]
     },
     "execution_count": 75,
     "metadata": {},
     "output_type": "execute_result"
    }
   ],
   "source": [
    "arr"
   ]
  },
  {
   "cell_type": "code",
   "execution_count": 76,
   "metadata": {},
   "outputs": [
    {
     "name": "stderr",
     "output_type": "stream",
     "text": [
      "C:\\Users\\Seema\\anaconda3\\lib\\site-packages\\ipykernel_launcher.py:1: RuntimeWarning: invalid value encountered in sqrt\n",
      "  \"\"\"Entry point for launching an IPython kernel.\n"
     ]
    },
    {
     "data": {
      "text/plain": [
       "array([1.09389293,        nan, 0.33834794,        nan, 0.13823239,\n",
       "       0.56788897,        nan,        nan,        nan,        nan])"
      ]
     },
     "execution_count": 76,
     "metadata": {},
     "output_type": "execute_result"
    }
   ],
   "source": [
    "np.sqrt(arr) # You cannot sqare root a negative value if you do so it will return nan"
   ]
  },
  {
   "cell_type": "code",
   "execution_count": 77,
   "metadata": {},
   "outputs": [
    {
     "data": {
      "text/plain": [
       "array([3.30885349, 0.84422525, 1.12128946, 0.51532154, 1.01929192,\n",
       "       1.38057196, 0.72532079, 0.731133  , 0.42680037, 0.64080293])"
      ]
     },
     "execution_count": 77,
     "metadata": {},
     "output_type": "execute_result"
    }
   ],
   "source": [
    "np.exp(arr)"
   ]
  },
  {
   "cell_type": "code",
   "execution_count": 78,
   "metadata": {},
   "outputs": [
    {
     "data": {
      "text/plain": [
       "array([-1.06596074,  2.06639163,  2.02342401,  1.62886857,  0.22816636,\n",
       "        0.00879253, -1.66890943,  0.19835034, -1.05414874,  0.43251381])"
      ]
     },
     "execution_count": 78,
     "metadata": {},
     "output_type": "execute_result"
    }
   ],
   "source": [
    "x = np.random.randn(10)\n",
    "x"
   ]
  },
  {
   "cell_type": "code",
   "execution_count": 79,
   "metadata": {},
   "outputs": [
    {
     "data": {
      "text/plain": [
       "array([ 1.00001679, -0.39686696, -0.41853138, -1.83127116, -0.5032196 ,\n",
       "       -0.77608792, -0.04847543,  1.1660424 ,  0.97014515,  1.73812639])"
      ]
     },
     "execution_count": 79,
     "metadata": {},
     "output_type": "execute_result"
    }
   ],
   "source": [
    "y = np.random.randn(10)\n",
    "y"
   ]
  },
  {
   "cell_type": "code",
   "execution_count": 80,
   "metadata": {},
   "outputs": [
    {
     "data": {
      "text/plain": [
       "array([ 1.00001679,  2.06639163,  2.02342401,  1.62886857,  0.22816636,\n",
       "        0.00879253, -0.04847543,  1.1660424 ,  0.97014515,  1.73812639])"
      ]
     },
     "execution_count": 80,
     "metadata": {},
     "output_type": "execute_result"
    }
   ],
   "source": [
    "np.maximum(x,y) # Returns element wise maximum"
   ]
  },
  {
   "cell_type": "code",
   "execution_count": 81,
   "metadata": {},
   "outputs": [],
   "source": [
    "arr = np.random.randn(7)*5"
   ]
  },
  {
   "cell_type": "code",
   "execution_count": 82,
   "metadata": {},
   "outputs": [
    {
     "data": {
      "text/plain": [
       "array([ 8.65250334,  1.55529359, -4.69853482,  0.24350716, -2.22695488,\n",
       "        1.33532998, -0.80040967])"
      ]
     },
     "execution_count": 82,
     "metadata": {},
     "output_type": "execute_result"
    }
   ],
   "source": [
    "arr"
   ]
  },
  {
   "cell_type": "code",
   "execution_count": 83,
   "metadata": {},
   "outputs": [],
   "source": [
    "remainder,whole_ = np.modf(arr)"
   ]
  },
  {
   "cell_type": "code",
   "execution_count": 84,
   "metadata": {},
   "outputs": [
    {
     "data": {
      "text/plain": [
       "array([ 0.65250334,  0.55529359, -0.69853482,  0.24350716, -0.22695488,\n",
       "        0.33532998, -0.80040967])"
      ]
     },
     "execution_count": 84,
     "metadata": {},
     "output_type": "execute_result"
    }
   ],
   "source": [
    "remainder # Rreturn the remainder from modf fuction "
   ]
  },
  {
   "cell_type": "code",
   "execution_count": 85,
   "metadata": {},
   "outputs": [
    {
     "data": {
      "text/plain": [
       "array([ 8.,  1., -4.,  0., -2.,  1., -0.])"
      ]
     },
     "execution_count": 85,
     "metadata": {},
     "output_type": "execute_result"
    }
   ],
   "source": [
    "whole_ # Rreturn the whole number from modf fuction "
   ]
  },
  {
   "cell_type": "code",
   "execution_count": 86,
   "metadata": {},
   "outputs": [
    {
     "name": "stderr",
     "output_type": "stream",
     "text": [
      "C:\\Users\\Seema\\anaconda3\\lib\\site-packages\\ipykernel_launcher.py:1: RuntimeWarning: invalid value encountered in sqrt\n",
      "  \"\"\"Entry point for launching an IPython kernel.\n"
     ]
    },
    {
     "data": {
      "text/plain": [
       "array([2.94151378, 1.2471141 ,        nan, 0.49346445,        nan,\n",
       "       1.15556479,        nan])"
      ]
     },
     "execution_count": 86,
     "metadata": {},
     "output_type": "execute_result"
    }
   ],
   "source": [
    "np.sqrt(arr,arr)"
   ]
  },
  {
   "attachments": {
    "image.png": {
     "image/png": "[encoded data removed]"
    }
   },
   "cell_type": "markdown",
   "metadata": {},
   "source": [
    "![image.png](attachment:image.png)"
   ]
  },
  {
   "attachments": {
    "image.png": {
     "image/png": "[encoded data removed]"
    }
   },
   "cell_type": "markdown",
   "metadata": {},
   "source": [
    "![image.png](attachment:image.png)"
   ]
  },
  {
   "attachments": {
    "image.png": {
     "image/png": "[encoded data removed]"
    }
   },
   "cell_type": "markdown",
   "metadata": {},
   "source": [
    "![image.png](attachment:image.png)"
   ]
  },
  {
   "cell_type": "markdown",
   "metadata": {},
   "source": [
    "### Array-Oriented Programming with Arrays\n",
    "Numpy enables - many kinds of data processing tasts without writing loops\n",
    "np.meshgrid function takes 1D arrays and produces 2D matrices corresponding to all pairs of (x,y) in the two arrays"
   ]
  },
  {
   "cell_type": "code",
   "execution_count": 87,
   "metadata": {},
   "outputs": [],
   "source": [
    "points = np.arange(-5,5,0.01) # 1000 equally spaced  i.e 100x10 10 =(5+5)"
   ]
  },
  {
   "cell_type": "code",
   "execution_count": 88,
   "metadata": {},
   "outputs": [
    {
     "data": {
      "text/plain": [
       "array([[-5.  , -5.  , -5.  , ..., -5.  , -5.  , -5.  ],\n",
       "       [-4.99, -4.99, -4.99, ..., -4.99, -4.99, -4.99],\n",
       "       [-4.98, -4.98, -4.98, ..., -4.98, -4.98, -4.98],\n",
       "       ...,\n",
       "       [ 4.97,  4.97,  4.97, ...,  4.97,  4.97,  4.97],\n",
       "       [ 4.98,  4.98,  4.98, ...,  4.98,  4.98,  4.98],\n",
       "       [ 4.99,  4.99,  4.99, ...,  4.99,  4.99,  4.99]])"
      ]
     },
     "execution_count": 88,
     "metadata": {},
     "output_type": "execute_result"
    }
   ],
   "source": [
    "xs ,ys = np.meshgrid(points, points)\n",
    "ys"
   ]
  },
  {
   "cell_type": "code",
   "execution_count": 89,
   "metadata": {},
   "outputs": [
    {
     "data": {
      "text/plain": [
       "array([[-5.  , -4.99, -4.98, ...,  4.97,  4.98,  4.99],\n",
       "       [-5.  , -4.99, -4.98, ...,  4.97,  4.98,  4.99],\n",
       "       [-5.  , -4.99, -4.98, ...,  4.97,  4.98,  4.99],\n",
       "       ...,\n",
       "       [-5.  , -4.99, -4.98, ...,  4.97,  4.98,  4.99],\n",
       "       [-5.  , -4.99, -4.98, ...,  4.97,  4.98,  4.99],\n",
       "       [-5.  , -4.99, -4.98, ...,  4.97,  4.98,  4.99]])"
      ]
     },
     "execution_count": 89,
     "metadata": {},
     "output_type": "execute_result"
    }
   ],
   "source": [
    "xs"
   ]
  },
  {
   "cell_type": "code",
   "execution_count": 90,
   "metadata": {},
   "outputs": [
    {
     "data": {
      "text/plain": [
       "array([[7.07106781, 7.06400028, 7.05693985, ..., 7.04988652, 7.05693985,\n",
       "        7.06400028],\n",
       "       [7.06400028, 7.05692568, 7.04985815, ..., 7.04279774, 7.04985815,\n",
       "        7.05692568],\n",
       "       [7.05693985, 7.04985815, 7.04278354, ..., 7.03571603, 7.04278354,\n",
       "        7.04985815],\n",
       "       ...,\n",
       "       [7.04988652, 7.04279774, 7.03571603, ..., 7.0286414 , 7.03571603,\n",
       "        7.04279774],\n",
       "       [7.05693985, 7.04985815, 7.04278354, ..., 7.03571603, 7.04278354,\n",
       "        7.04985815],\n",
       "       [7.06400028, 7.05692568, 7.04985815, ..., 7.04279774, 7.04985815,\n",
       "        7.05692568]])"
      ]
     },
     "execution_count": 90,
     "metadata": {},
     "output_type": "execute_result"
    }
   ],
   "source": [
    "z = np.sqrt(xs**2 + ys**2)\n",
    "z"
   ]
  },
  {
   "cell_type": "markdown",
   "metadata": {},
   "source": [
    "Lets see a visualization of this 2D array by using matplotlib which i will be discussing it elabratly in the future session"
   ]
  },
  {
   "cell_type": "code",
   "execution_count": 91,
   "metadata": {},
   "outputs": [
    {
     "data": {
      "text/plain": [
       "Text(0.5, 1.0, 'Image plor of $\\\\sqrt{x^2 +y^2}$ for the grid below')"
      ]
     },
     "execution_count": 91,
     "metadata": {},
     "output_type": "execute_result"
    },
    {
     "data": {
      "image/png": "[encoded data removed]",
      "text/plain": [
       "<Figure size 432x288 with 2 Axes>"
      ]
     },
     "metadata": {
      "needs_background": "light"
     },
     "output_type": "display_data"
    }
   ],
   "source": [
    "import matplotlib.pyplot as plt\n",
    "plt.imshow(z, cmap = plt.cm.gray); plt.colorbar()\n",
    "plt.title(\"Image plor of $\\sqrt{x^2 +y^2}$ for the grid below\")"
   ]
  },
  {
   "cell_type": "markdown",
   "metadata": {},
   "source": [
    "Lets solve an question to get more understanding on array using saome if loop"
   ]
  },
  {
   "cell_type": "code",
   "execution_count": 92,
   "metadata": {},
   "outputs": [
    {
     "name": "stdout",
     "output_type": "stream",
     "text": [
      "[1.1 1.2 1.3 1.4 1.5] [2.1 2.2 2.3 2.4 2.5]\n"
     ]
    }
   ],
   "source": [
    "x = np.array([1.1, 1.2, 1.3, 1.4, 1.5])\n",
    "y = np.array([2.1, 2.2, 2.3, 2.4, 2.5])\n",
    "print(x,y)"
   ]
  },
  {
   "cell_type": "code",
   "execution_count": 93,
   "metadata": {},
   "outputs": [],
   "source": [
    "cond = np.array([True,False, True,True,False])"
   ]
  },
  {
   "cell_type": "markdown",
   "metadata": {},
   "source": [
    "So the question is, we take the value x in the cond is True else False"
   ]
  },
  {
   "cell_type": "code",
   "execution_count": 94,
   "metadata": {},
   "outputs": [],
   "source": [
    "result = [(x if c else y) for x,y, c in zip(x,y,cond)]"
   ]
  },
  {
   "cell_type": "code",
   "execution_count": 95,
   "metadata": {},
   "outputs": [
    {
     "data": {
      "text/plain": [
       "[1.1, 2.2, 1.3, 1.4, 2.5]"
      ]
     },
     "execution_count": 95,
     "metadata": {},
     "output_type": "execute_result"
    }
   ],
   "source": [
    "result"
   ]
  },
  {
   "cell_type": "markdown",
   "metadata": {},
   "source": [
    "We can do the same operation by using np.where "
   ]
  },
  {
   "cell_type": "code",
   "execution_count": 96,
   "metadata": {},
   "outputs": [],
   "source": [
    "result = np.where(cond,x,y)"
   ]
  },
  {
   "cell_type": "code",
   "execution_count": 97,
   "metadata": {},
   "outputs": [
    {
     "data": {
      "text/plain": [
       "array([1.1, 2.2, 1.3, 1.4, 2.5])"
      ]
     },
     "execution_count": 97,
     "metadata": {},
     "output_type": "execute_result"
    }
   ],
   "source": [
    "result"
   ]
  },
  {
   "cell_type": "code",
   "execution_count": 98,
   "metadata": {},
   "outputs": [
    {
     "data": {
      "text/plain": [
       "array([[-0.03513571, -0.95857489, -0.76553169, -0.87133915],\n",
       "       [ 2.19732726, -0.37391344, -0.01955864, -0.97149195],\n",
       "       [ 0.45137178,  0.80215403, -0.83113059, -0.92035387],\n",
       "       [ 0.7379973 , -1.45259179, -1.424457  , -1.89970594]])"
      ]
     },
     "execution_count": 98,
     "metadata": {},
     "output_type": "execute_result"
    }
   ],
   "source": [
    "# Another example\n",
    "x1 = np.random.randn(4,4)\n",
    "x1"
   ]
  },
  {
   "cell_type": "code",
   "execution_count": 99,
   "metadata": {},
   "outputs": [
    {
     "data": {
      "text/plain": [
       "array([[-2, -2, -2, -2],\n",
       "       [ 2, -2, -2, -2],\n",
       "       [-2, -2, -2, -2],\n",
       "       [-2, -2, -2, -2]])"
      ]
     },
     "execution_count": 99,
     "metadata": {},
     "output_type": "execute_result"
    }
   ],
   "source": [
    "np.where(x1>1,2,-2)"
   ]
  },
  {
   "cell_type": "code",
   "execution_count": 100,
   "metadata": {},
   "outputs": [
    {
     "data": {
      "text/plain": [
       "array([[-0.03513571, -0.95857489, -0.76553169, -0.87133915],\n",
       "       [ 2.        , -0.37391344, -0.01955864, -0.97149195],\n",
       "       [ 2.        ,  2.        , -0.83113059, -0.92035387],\n",
       "       [ 2.        , -1.45259179, -1.424457  , -1.89970594]])"
      ]
     },
     "execution_count": 100,
     "metadata": {},
     "output_type": "execute_result"
    }
   ],
   "source": [
    "# or \n",
    "np.where(x1 > 0,2,x1)"
   ]
  },
  {
   "cell_type": "markdown",
   "metadata": {},
   "source": [
    "### Mathematical and Statistical Methods \n",
    "You can do Mathematical function to compute statistics \n",
    "or statistical methods - sum, mean, and std(standard devidation)"
   ]
  },
  {
   "cell_type": "code",
   "execution_count": 101,
   "metadata": {},
   "outputs": [
    {
     "data": {
      "text/plain": [
       "array([[-1.25236781,  1.41903652, -0.22280032, -0.42330833],\n",
       "       [ 0.00872129,  0.79962614,  0.32958177, -0.48996166],\n",
       "       [ 0.28991615,  0.26836383, -1.16322254,  0.3331747 ],\n",
       "       [-1.1686024 ,  1.38306647,  0.10030564, -0.74275034],\n",
       "       [-0.48749547,  0.82120966,  1.22979596, -0.0534901 ]])"
      ]
     },
     "execution_count": 101,
     "metadata": {},
     "output_type": "execute_result"
    }
   ],
   "source": [
    "arr = np.random.randn(5,4)\n",
    "arr"
   ]
  },
  {
   "cell_type": "code",
   "execution_count": 102,
   "metadata": {},
   "outputs": [
    {
     "data": {
      "text/plain": [
       "0.04893995861050088"
      ]
     },
     "execution_count": 102,
     "metadata": {},
     "output_type": "execute_result"
    }
   ],
   "source": [
    "arr.mean()"
   ]
  },
  {
   "cell_type": "code",
   "execution_count": 103,
   "metadata": {},
   "outputs": [
    {
     "data": {
      "text/plain": [
       "0.04893995861050088"
      ]
     },
     "execution_count": 103,
     "metadata": {},
     "output_type": "execute_result"
    }
   ],
   "source": [
    "# or by\n",
    "np.mean(arr)"
   ]
  },
  {
   "cell_type": "code",
   "execution_count": 104,
   "metadata": {},
   "outputs": [
    {
     "data": {
      "text/plain": [
       "0.9787991722100176"
      ]
     },
     "execution_count": 104,
     "metadata": {},
     "output_type": "execute_result"
    }
   ],
   "source": [
    "arr.sum()"
   ]
  },
  {
   "cell_type": "code",
   "execution_count": 105,
   "metadata": {},
   "outputs": [
    {
     "data": {
      "text/plain": [
       "0.9787991722100176"
      ]
     },
     "execution_count": 105,
     "metadata": {},
     "output_type": "execute_result"
    }
   ],
   "source": [
    "# or by\n",
    "np.sum(arr)"
   ]
  },
  {
   "cell_type": "code",
   "execution_count": 106,
   "metadata": {},
   "outputs": [
    {
     "data": {
      "text/plain": [
       "array([-0.11985999,  0.16199189, -0.06794196, -0.10699516,  0.37750501])"
      ]
     },
     "execution_count": 106,
     "metadata": {},
     "output_type": "execute_result"
    }
   ],
   "source": [
    "# If you want to do tasks on specific axis then\n",
    "arr.mean(axis = 1) # or by arr.mean(1)"
   ]
  },
  {
   "cell_type": "code",
   "execution_count": 107,
   "metadata": {
    "scrolled": true
   },
   "outputs": [
    {
     "data": {
      "text/plain": [
       "array([-0.47943995,  0.64796755, -0.27176786, -0.42798063,  1.51002005])"
      ]
     },
     "execution_count": 107,
     "metadata": {},
     "output_type": "execute_result"
    }
   ],
   "source": [
    "arr.sum(axis= 1) # axis = 1 means to add column wise"
   ]
  },
  {
   "cell_type": "markdown",
   "metadata": {},
   "source": [
    "Other methods like cumsum and cumprod do not aggregate, instead producing an array of the intermediate results:"
   ]
  },
  {
   "cell_type": "code",
   "execution_count": 108,
   "metadata": {},
   "outputs": [
    {
     "data": {
      "text/plain": [
       "array([-1.25236781,  0.1666687 , -0.05613161, -0.47943995, -0.47071865,\n",
       "        0.32890749,  0.65848926,  0.16852761,  0.45844376,  0.72680759,\n",
       "       -0.43641496, -0.10324025, -1.27184265,  0.11122382,  0.21152946,\n",
       "       -0.53122088, -1.01871635, -0.19750669,  1.03228927,  0.97879917])"
      ]
     },
     "execution_count": 108,
     "metadata": {},
     "output_type": "execute_result"
    }
   ],
   "source": [
    "arr.cumsum()"
   ]
  },
  {
   "cell_type": "code",
   "execution_count": 109,
   "metadata": {},
   "outputs": [
    {
     "data": {
      "text/plain": [
       "array([[0, 1, 2],\n",
       "       [3, 4, 5],\n",
       "       [6, 7, 8]])"
      ]
     },
     "execution_count": 109,
     "metadata": {},
     "output_type": "execute_result"
    }
   ],
   "source": [
    "# Lets understand cumsum with more example\n",
    "arr = np.array([[0, 1, 2], [3, 4, 5], [6, 7, 8]])\n",
    "arr"
   ]
  },
  {
   "cell_type": "code",
   "execution_count": 110,
   "metadata": {},
   "outputs": [
    {
     "data": {
      "text/plain": [
       "array([[ 0,  1,  2],\n",
       "       [ 3,  5,  7],\n",
       "       [ 9, 12, 15]], dtype=int32)"
      ]
     },
     "execution_count": 110,
     "metadata": {},
     "output_type": "execute_result"
    }
   ],
   "source": [
    "arr.cumsum(axis = 0) # Add the second column with the previous column"
   ]
  },
  {
   "cell_type": "code",
   "execution_count": 111,
   "metadata": {},
   "outputs": [
    {
     "data": {
      "text/plain": [
       "array([[  0,   0,   0],\n",
       "       [  3,  12,  60],\n",
       "       [  6,  42, 336]], dtype=int32)"
      ]
     },
     "execution_count": 111,
     "metadata": {},
     "output_type": "execute_result"
    }
   ],
   "source": [
    "arr.cumprod(axis=1) # Product of the previous row "
   ]
  },
  {
   "attachments": {
    "image.png": {
     "image/png": "[encoded data removed]"
    }
   },
   "cell_type": "markdown",
   "metadata": {},
   "source": [
    "![image.png](attachment:image.png)"
   ]
  },
  {
   "cell_type": "code",
   "execution_count": 112,
   "metadata": {},
   "outputs": [],
   "source": [
    "# We can use boolean values as methods\n",
    "arr = np.random.randn(100)"
   ]
  },
  {
   "cell_type": "code",
   "execution_count": 113,
   "metadata": {},
   "outputs": [
    {
     "data": {
      "text/plain": [
       "49"
      ]
     },
     "execution_count": 113,
     "metadata": {},
     "output_type": "execute_result"
    }
   ],
   "source": [
    "(arr>0).sum()"
   ]
  },
  {
   "cell_type": "markdown",
   "metadata": {},
   "source": [
    "There are two additional methods, any and all, useful especially for boolean arrays.\n",
    "any tests whether one or more values in an array is True, while all checks if every\n",
    "value is True:"
   ]
  },
  {
   "cell_type": "code",
   "execution_count": 114,
   "metadata": {},
   "outputs": [],
   "source": [
    "bools = np.array([False,False,True,False])"
   ]
  },
  {
   "cell_type": "code",
   "execution_count": 115,
   "metadata": {},
   "outputs": [
    {
     "data": {
      "text/plain": [
       "True"
      ]
     },
     "execution_count": 115,
     "metadata": {},
     "output_type": "execute_result"
    }
   ],
   "source": [
    "bools.any() # Checking if any value are boolean"
   ]
  },
  {
   "cell_type": "code",
   "execution_count": 116,
   "metadata": {},
   "outputs": [
    {
     "data": {
      "text/plain": [
       "False"
      ]
     },
     "execution_count": 116,
     "metadata": {},
     "output_type": "execute_result"
    }
   ],
   "source": [
    "bools.all() # Checking if all values are boolean"
   ]
  },
  {
   "cell_type": "code",
   "execution_count": 117,
   "metadata": {},
   "outputs": [],
   "source": [
    "# Sorting\n",
    "arr = np.random.randn(6)"
   ]
  },
  {
   "cell_type": "code",
   "execution_count": 118,
   "metadata": {},
   "outputs": [
    {
     "data": {
      "text/plain": [
       "array([ 0.65435063, -1.6906402 ,  0.65617313, -1.80037823, -0.53130282,\n",
       "        0.85219139])"
      ]
     },
     "execution_count": 118,
     "metadata": {},
     "output_type": "execute_result"
    }
   ],
   "source": [
    "arr"
   ]
  },
  {
   "cell_type": "code",
   "execution_count": 119,
   "metadata": {},
   "outputs": [],
   "source": [
    "arr.sort()"
   ]
  },
  {
   "cell_type": "code",
   "execution_count": 120,
   "metadata": {},
   "outputs": [
    {
     "data": {
      "text/plain": [
       "array([[ 0.79096756, -0.68035714,  0.00376561,  1.07028433],\n",
       "       [-0.17695226, -0.36575175,  0.65818272,  0.33172676],\n",
       "       [ 2.47257024,  0.11230881,  0.72052414,  0.20149121],\n",
       "       [ 0.34622021, -0.70888903,  0.50854104,  0.61126324]])"
      ]
     },
     "execution_count": 120,
     "metadata": {},
     "output_type": "execute_result"
    }
   ],
   "source": [
    "arr = np.random.randn(4,4)\n",
    "arr"
   ]
  },
  {
   "cell_type": "code",
   "execution_count": 121,
   "metadata": {
    "scrolled": true
   },
   "outputs": [
    {
     "data": {
      "text/plain": [
       "array([[-0.68035714,  0.00376561,  0.79096756,  1.07028433],\n",
       "       [-0.36575175, -0.17695226,  0.33172676,  0.65818272],\n",
       "       [ 0.11230881,  0.20149121,  0.72052414,  2.47257024],\n",
       "       [-0.70888903,  0.34622021,  0.50854104,  0.61126324]])"
      ]
     },
     "execution_count": 121,
     "metadata": {},
     "output_type": "execute_result"
    }
   ],
   "source": [
    "arr.sort(1) # Sorting coloumn elements\n",
    "arr "
   ]
  },
  {
   "cell_type": "markdown",
   "metadata": {},
   "source": [
    "The top-level method np.sort returns a sorted copy of an array instead of modifying the array in-place. A quick-and-dirty way to compute the quantiles of an array is to\n",
    "sort it and select the value at a particular rank:"
   ]
  },
  {
   "cell_type": "code",
   "execution_count": 122,
   "metadata": {},
   "outputs": [
    {
     "data": {
      "text/plain": [
       "array([ 1.95658996e+00,  4.81894860e-01, -5.24408791e-02,  9.68033025e-01,\n",
       "       -2.77929133e-01, -1.61817376e+00, -1.40630203e+00,  1.38952323e-01,\n",
       "        6.42033237e-01, -9.20994927e-01, -8.12490190e-01, -4.37206325e-01,\n",
       "        7.52737532e-01,  2.23234235e+00, -2.05997891e+00, -2.16705708e+00,\n",
       "        3.78404763e-02,  1.19871370e-01, -1.08762835e+00,  1.43293530e-01,\n",
       "       -8.48766067e-01, -7.57257957e-01, -5.50195851e-02,  1.02858271e+00,\n",
       "        1.55868455e+00, -1.14038564e+00, -6.91833824e-01, -5.09179938e-01,\n",
       "       -1.05357029e+00, -3.13563013e-01, -2.54971411e-01, -7.06990797e-01,\n",
       "        5.08452686e-01, -4.79142200e-01, -1.15018740e+00, -1.45544788e-01,\n",
       "        1.54864458e+00,  6.47858917e-02,  1.08157050e+00,  8.40652362e-01,\n",
       "       -1.68766963e-01, -1.05019974e-01,  8.62443946e-01,  6.01619743e-01,\n",
       "        1.75087442e+00, -1.44203154e+00,  8.63858166e-01, -6.35025082e-01,\n",
       "        4.36032327e-01,  3.83816369e-01, -5.37809484e-02, -7.97308257e-01,\n",
       "       -1.96878707e+00,  1.99425951e-01, -2.27648793e-03,  4.60123762e-01,\n",
       "        1.92817931e+00, -1.37045755e+00, -1.97533301e+00, -5.24546683e-01,\n",
       "       -6.59109226e-01,  9.71958840e-01, -9.45195530e-01, -5.62489831e-02,\n",
       "       -1.01776622e+00,  4.13989185e-01,  1.27443650e+00, -4.42796241e-01,\n",
       "       -1.23707402e+00,  7.03241970e-02,  2.25385283e-01, -3.16054466e-01,\n",
       "       -2.28335480e+00, -1.77300772e-01,  5.61360083e-01, -8.19980376e-01,\n",
       "        1.12317499e+00,  9.96545757e-01, -7.25749371e-02, -2.68377165e-01,\n",
       "        3.93965888e-01, -4.67734431e-02, -4.25000835e-01, -1.09890849e+00,\n",
       "       -1.84714428e+00,  5.62277036e-01,  7.02918476e-01,  1.87724145e+00,\n",
       "        7.62108721e-01,  1.66348608e+00,  4.39325360e-01,  7.45628135e-02,\n",
       "       -3.59808667e-01, -2.03974569e-01,  2.68374424e-01,  6.19613213e-01,\n",
       "        1.68367733e+00, -8.28204400e-01, -5.56687121e-01,  8.84427993e-02,\n",
       "        2.52071073e+00, -1.88385290e+00,  1.15009677e+00,  6.65195544e-01,\n",
       "        2.80811944e-01, -8.09778681e-01,  1.12728373e+00, -6.63443013e-01,\n",
       "       -6.39845009e-01,  1.62465717e+00, -2.34045792e-01, -9.05722077e-01,\n",
       "        1.02845725e+00, -5.07952174e-01, -6.28618088e-01,  3.65519481e-01,\n",
       "        9.01531270e-01,  5.58705352e-01,  1.43605778e+00,  3.42590491e-01,\n",
       "       -1.64153975e+00,  1.46514889e+00,  3.15669857e-01, -1.40916632e+00,\n",
       "       -1.35547467e+00,  1.25723806e+00,  6.10997946e-02,  8.30474699e-03,\n",
       "        8.78192092e-01,  1.25640115e+00,  8.51489944e-02, -1.74964421e-01,\n",
       "        3.52111610e-02, -1.38809755e+00,  1.09713458e+00,  1.17180512e+00,\n",
       "       -5.38973779e-01, -1.23326239e+00,  5.12848600e-01,  8.09279621e-01,\n",
       "        1.10542433e+00,  5.71982796e-01, -9.47825883e-01,  1.78230528e+00,\n",
       "        2.75148620e-01,  5.15114359e-01,  3.67964079e-01, -5.49850058e-01,\n",
       "       -7.81459662e-01, -1.88026941e+00,  2.85628752e-01,  5.38821031e-01,\n",
       "       -3.64895151e-01, -2.44116321e+00, -8.43484504e-01,  8.43638810e-01,\n",
       "       -3.69078462e-01, -4.58491217e-01, -3.40836236e-01, -1.17758424e+00,\n",
       "       -5.73637797e-01,  2.56490650e+00, -3.23508325e-01,  1.35968268e+00,\n",
       "        1.20868635e-01, -1.13060924e+00,  1.45769403e+00,  1.61958302e+00,\n",
       "        8.02829041e-01, -6.02611731e-01,  1.72822167e+00, -1.70957058e+00,\n",
       "        1.42337822e+00,  7.34581779e-01,  9.03000118e-01, -8.77295077e-01,\n",
       "       -5.88501167e-01,  1.32635302e-01, -4.65175706e-01, -2.05138528e+00,\n",
       "        3.42874365e-01, -1.05837788e+00, -5.85242771e-01, -1.34324485e+00,\n",
       "        4.05408499e-01,  1.39941846e+00, -2.40317942e-01, -9.06494639e-01,\n",
       "        1.46265980e+00,  3.64499455e-02,  7.54682392e-01,  1.23550850e+00,\n",
       "        9.87481143e-01, -6.29804867e-01,  1.43034059e+00, -9.88035692e-01,\n",
       "        1.45490528e-01,  4.03158905e-01,  4.71772247e-01, -1.05945214e+00,\n",
       "       -3.53668176e-01,  3.94976505e-01, -4.86222235e-01,  3.78075950e-02,\n",
       "       -1.18483008e+00,  4.25334313e-01,  1.53746514e+00, -2.46275152e-01,\n",
       "        1.35849244e+00,  6.74070159e-01,  1.09441186e+00,  8.96295087e-01,\n",
       "       -1.01378767e+00,  8.53496219e-01,  7.55812163e-01, -6.55004668e-01,\n",
       "        7.02628128e-02,  4.03993311e-01,  8.29411220e-01, -8.51294162e-01,\n",
       "        1.31576639e+00,  7.64327960e-01, -1.26649399e+00, -1.01664284e+00,\n",
       "        9.28022215e-01, -7.14768619e-01,  1.85889800e-02,  1.82902109e+00,\n",
       "        3.96826630e-01,  5.70127514e-01,  6.13656265e-01, -1.59646472e+00,\n",
       "        2.43845747e-01, -1.35876506e+00,  1.39839510e+00, -1.09069627e+00,\n",
       "       -9.27091838e-02, -1.78905836e-01,  1.22535315e-02,  2.18601712e+00,\n",
       "        2.35403583e-01,  1.05325213e+00,  1.64376455e-01, -4.81568575e-01,\n",
       "       -4.15239907e-01,  6.52186548e-01,  3.98686782e-01, -4.96058577e-01,\n",
       "       -4.82777290e-01,  3.00863311e-02, -1.87831849e-01, -6.83870236e-01,\n",
       "        5.66746534e-01,  2.86004665e-01,  1.67560316e+00,  5.22792861e-01,\n",
       "        1.95060090e+00,  2.45994450e-02,  1.89774872e+00, -1.09854395e+00,\n",
       "        1.19145346e-01, -2.26156583e-01,  6.59731063e-03,  4.62687647e-01,\n",
       "       -6.11117488e-01,  7.17120544e-02, -8.15819137e-01,  6.76391659e-01,\n",
       "       -7.84216043e-01, -4.46022083e-01, -5.69890601e-01,  1.41485978e+00,\n",
       "        8.25830226e-01, -5.99996775e-02,  1.12906018e+00,  2.02704173e-01,\n",
       "       -8.98985256e-01,  1.48805895e+00,  1.69594470e+00, -4.48263782e-01,\n",
       "       -1.39603486e+00, -8.55631630e-01,  5.32217455e-01,  3.96976345e-01,\n",
       "       -3.21016768e-01, -7.02867055e-01, -1.25642045e+00,  1.33648054e-02,\n",
       "       -8.51485269e-02,  4.99907186e-01, -1.26223741e+00, -9.23712764e-01,\n",
       "       -1.24606616e+00,  1.41019669e-02, -2.25846444e-01, -9.18184313e-02,\n",
       "       -1.91439950e+00,  7.64189115e-01,  4.00091276e-01, -1.26193668e+00,\n",
       "       -7.00826831e-01,  7.03450328e-01,  6.12801157e-02, -9.00291856e-02,\n",
       "       -5.86870173e-01, -7.27686201e-01,  2.50957461e+00,  3.90053536e-01,\n",
       "       -1.27726356e-01,  2.57799232e-01,  6.98565653e-01,  6.84234926e-01,\n",
       "        3.91046575e-01, -3.35174525e-01, -2.78748877e+00,  7.75250887e-01,\n",
       "        4.09074136e-01,  8.43067172e-01, -5.15420568e-01, -1.02283189e+00,\n",
       "        1.01539645e+00, -8.67903420e-01,  3.05525198e-01, -2.22594995e-02,\n",
       "        1.53086775e+00, -1.44948522e-01, -1.31782155e+00,  9.27353360e-01,\n",
       "       -1.17727577e-01,  4.34750376e-03, -1.85923948e-01, -9.54934737e-01,\n",
       "        1.85568860e+00,  1.14999677e+00,  7.67271403e-01, -1.12337075e+00,\n",
       "        6.98725279e-01, -1.09329057e+00, -7.74423022e-01, -5.91551780e-01,\n",
       "        1.82980818e+00,  8.90957210e-01,  1.42734569e+00, -6.00619556e-03,\n",
       "       -7.59161978e-01, -8.63165480e-01,  2.73883503e-01,  4.32673591e-01,\n",
       "       -1.31243593e-01,  1.81040485e-01, -2.16800990e+00,  1.01450035e-01,\n",
       "        1.38715193e-01, -1.10656471e-01, -7.54179752e-01,  4.92028884e-01,\n",
       "        5.07105407e-01,  2.89198316e-01, -4.01453688e-01,  2.82189032e-01,\n",
       "       -1.81530288e+00,  1.80837377e-01,  8.49665905e-01, -1.72438032e-01,\n",
       "        6.00156286e-01,  7.65942763e-01, -1.44106141e+00, -8.47269720e-01,\n",
       "       -2.31126906e-01,  3.74360149e-01,  7.06595046e-01, -8.42603163e-01,\n",
       "       -3.24750603e-03, -1.00116401e-01, -1.42527319e+00, -2.05603029e+00,\n",
       "        1.19548080e+00,  2.30899702e-03, -1.02748914e+00,  1.39919988e+00,\n",
       "        1.45045530e+00, -3.24040790e-01,  6.78505246e-01, -5.75426428e-02,\n",
       "       -5.55602478e-01,  1.26015078e+00, -1.13363731e+00, -1.27621688e-01,\n",
       "        1.59344478e+00,  5.54231463e-01, -1.86220532e+00,  4.31137349e-01,\n",
       "        1.59118568e-01, -1.13308868e-01,  7.24426268e-01,  4.70132943e-01,\n",
       "        1.28689323e+00, -2.57874889e-01,  2.27042447e-01, -3.18536602e-01,\n",
       "       -6.85353761e-01, -3.19514482e-02, -1.63114982e+00,  7.20801944e-02,\n",
       "        6.95707799e-01,  9.46095721e-03,  1.69763947e+00,  3.89908809e-01,\n",
       "        2.65572474e+00,  2.74150054e-01,  5.25723682e-01, -6.69257639e-01,\n",
       "       -2.21447272e+00, -5.06077263e-01, -5.13039312e-02, -1.09131797e+00,\n",
       "        1.74681786e+00, -1.76895433e+00, -6.63943521e-01, -2.07090794e+00,\n",
       "        1.60617787e-02, -8.14920643e-01, -6.01151488e-01,  1.67660505e+00,\n",
       "       -1.67066702e+00,  8.78358109e-01, -2.90840540e+00, -4.37930296e-01,\n",
       "       -2.23730553e-01, -1.50626457e+00,  1.61294048e+00, -5.03056825e-01,\n",
       "       -5.90201687e-01,  8.08210196e-02, -7.71660614e-01,  1.12014951e+00,\n",
       "       -1.60405855e+00,  1.44478286e+00, -1.46121886e+00, -1.02765573e-01,\n",
       "        7.82022175e-02, -8.53107077e-02, -4.25685499e-02, -9.20214549e-01,\n",
       "        1.89007304e+00,  7.06584831e-01,  3.12010142e-01, -1.82657166e+00,\n",
       "       -9.59300576e-01,  7.50763907e-02,  1.18002265e+00, -4.21894964e-02,\n",
       "       -9.10760316e-01,  2.21613334e-01,  2.61226860e+00,  8.52103002e-01,\n",
       "       -5.04341119e-01,  1.53913224e+00, -3.76747008e-01, -1.91331571e+00,\n",
       "       -1.22492081e-02,  1.36429210e+00, -7.16379833e-01, -1.19648387e+00,\n",
       "       -1.94417511e+00,  4.40277552e-01, -2.53329988e-01,  8.81008265e-01,\n",
       "       -5.60951223e-01,  1.05463019e+00,  6.31711931e-01,  1.11063885e+00,\n",
       "       -1.12652291e-01,  7.73337763e-01,  1.36734038e+00, -7.43846351e-01,\n",
       "        4.43803794e-01,  9.69228529e-01, -6.68703587e-01,  8.30058957e-01,\n",
       "        8.49896415e-03, -8.58864467e-01, -8.33663560e-01,  8.44308148e-01,\n",
       "       -1.47838394e+00, -7.20444005e-01, -1.05377517e+00, -1.54448663e+00,\n",
       "        8.24007920e-01,  2.35984384e+00,  4.47977567e-01,  9.54872140e-01,\n",
       "        6.34975964e-02, -5.23880714e-01,  4.46802735e-01, -8.98720546e-01,\n",
       "       -1.22037015e+00, -1.10838128e+00, -1.04535875e+00,  2.65932454e-01,\n",
       "       -6.52523698e-01,  4.46464905e-01,  7.67826103e-01,  2.01494205e+00,\n",
       "        2.03639767e-01, -1.53959235e+00,  1.93496583e+00, -7.45552103e-01,\n",
       "        7.05932602e-01, -1.20044635e+00, -1.08452677e+00, -2.25029749e-01,\n",
       "        4.98479952e-01,  7.69910267e-01, -2.58547446e-01, -5.54554773e-01,\n",
       "        2.96736729e-01,  6.36584071e-01,  5.83962502e-01,  2.94558591e-01,\n",
       "       -5.02050542e-02,  1.47783288e-02,  2.07581181e+00,  3.43604558e-01,\n",
       "       -4.20582549e-01,  6.83293121e-01,  1.35560916e+00, -1.27011479e+00,\n",
       "       -1.34250102e+00, -2.08782409e-01,  6.94394801e-01, -1.36775247e+00,\n",
       "       -2.50057659e+00, -3.53648729e-01,  4.79329285e-01, -1.45813260e+00,\n",
       "        8.34973096e-02,  1.75273076e-01, -1.06227099e+00,  1.22305587e+00,\n",
       "        1.13556119e+00,  4.83423972e-01, -5.09357976e-01, -9.65652957e-01,\n",
       "        1.35188714e-01, -2.46552167e+00,  9.44398624e-01, -7.66350923e-01,\n",
       "       -2.18436505e-01, -1.14720964e-01, -9.62167353e-01, -3.94553041e-01,\n",
       "       -1.23010541e+00,  3.20827224e-01, -1.01303455e+00,  6.71065496e-01,\n",
       "        1.34425799e-02,  1.36571329e+00,  2.11234870e-01,  1.48990954e-01,\n",
       "        2.27048787e-01, -8.52445291e-02,  3.74068319e-01, -1.50971791e+00,\n",
       "       -9.98250501e-01, -9.88909689e-01, -8.15435583e-01,  1.41669396e+00,\n",
       "        1.74167750e+00, -8.24126233e-02, -1.60379962e+00,  5.23715048e-01,\n",
       "        1.97644707e+00, -4.02775699e-01, -1.21719738e+00, -1.20432481e+00,\n",
       "       -3.90352489e-01, -3.08126204e-01, -7.35170995e-02,  7.64897033e-02,\n",
       "       -2.65219083e-01, -2.28644182e-01,  1.10517370e-01,  1.51060996e+00,\n",
       "       -2.12904660e-01, -8.56340313e-01,  3.87292030e-02,  9.14385266e-01,\n",
       "       -9.25611266e-01, -3.75037757e-01,  1.13748788e+00,  7.29924984e-01,\n",
       "        7.65644146e-01, -4.14134892e-01,  2.53203040e+00, -9.50860236e-01,\n",
       "        9.90879239e-01, -6.38419155e-01, -6.00045388e-02, -1.29414565e+00,\n",
       "       -2.19495996e-01, -6.91627494e-01, -4.03895419e-01,  8.75872399e-01,\n",
       "       -1.95035527e-01,  1.44219742e-02,  1.04737288e+00, -2.32925792e-03,\n",
       "        1.00669727e-01, -6.51563355e-01, -1.07610001e+00, -1.83694219e-01,\n",
       "       -5.18597611e-01, -6.39840809e-01, -1.85458788e+00, -2.02613536e+00,\n",
       "       -4.49770350e-01,  5.59090953e-01, -6.98545988e-01,  3.67204258e-01,\n",
       "       -7.06689456e-01,  1.68157818e+00, -1.12468570e+00,  2.59186178e-01,\n",
       "        2.00044118e+00,  1.22557832e+00, -8.78813512e-01,  4.80578731e-01,\n",
       "       -4.94783628e-01, -1.09444144e-01, -8.71550688e-01,  9.64166935e-03,\n",
       "        1.17245767e+00,  1.00096148e+00,  1.26442152e-01,  4.56455415e-02,\n",
       "        1.25623023e+00,  1.87996764e-01, -7.38139366e-01,  1.93897359e-01,\n",
       "        4.65748889e-01, -5.29179000e-01,  1.01646255e-01,  1.09458131e-01,\n",
       "        4.22295138e-01, -1.94940747e+00,  9.15443859e-01, -1.47971813e-01,\n",
       "       -1.58743820e+00,  7.72015889e-01, -5.54347759e-02, -1.30290947e+00,\n",
       "       -1.35207357e+00,  8.07057024e-01, -6.75659653e-01, -1.42100391e+00,\n",
       "        4.63338248e-01,  4.69651813e-02, -1.86283648e-01,  5.09243120e-01,\n",
       "        1.72016924e-01, -2.55900865e-01,  1.21461571e+00, -9.24951627e-01,\n",
       "        8.78103007e-01,  5.98770968e-01,  4.08434767e-01, -1.91676803e-01,\n",
       "       -1.09000979e+00, -2.30095540e-01, -5.77285701e-01, -8.98972432e-01,\n",
       "        1.37444460e+00, -1.82261888e+00, -2.70170458e-01,  7.23296030e-01,\n",
       "        7.99479141e-01, -7.63079582e-01,  2.03938050e-01, -4.55945027e-02,\n",
       "        5.14383828e-02, -7.08524736e-01, -9.62494493e-01, -3.73979923e-01,\n",
       "       -1.62090687e-01,  5.01314560e-01,  1.44771724e+00,  1.11085214e+00,\n",
       "        1.10990687e+00,  1.83347380e+00, -8.26366397e-01,  3.66383382e-01,\n",
       "       -5.89925390e-01, -4.64143894e-01, -5.18278279e-02, -3.78335623e-01,\n",
       "       -2.83099947e-01, -1.46429699e+00,  2.37297922e+00, -2.17817763e-01,\n",
       "        1.21128123e+00, -1.38662827e-01,  3.85673035e-01, -1.33348251e+00,\n",
       "        1.18688615e+00,  2.04113683e-01,  7.16110360e-01,  1.22544027e+00,\n",
       "        1.32502450e+00,  1.06161676e-01,  6.39682481e-01,  7.69345800e-01,\n",
       "       -1.79444529e+00, -3.39465407e-01,  1.85398245e+00, -9.81319901e-01,\n",
       "        1.58693919e+00, -3.11715422e-01,  1.35181893e+00, -2.12368500e-02,\n",
       "       -1.52489115e+00, -7.64526816e-01,  5.84009306e-01, -1.29866957e+00,\n",
       "       -6.70972338e-01, -7.16658444e-01, -1.92679288e+00, -6.00929362e-01,\n",
       "       -3.04241568e-01, -6.04955480e-01, -2.12598600e+00, -1.47190921e-02,\n",
       "       -1.77439308e-01,  8.83907879e-01, -1.49273873e-01, -1.12863560e+00,\n",
       "       -3.27647014e+00, -4.53631169e-01, -3.35423355e-01,  4.63963889e-01,\n",
       "        1.41999361e+00,  5.86822433e-01,  1.14173852e+00, -7.96068396e-01,\n",
       "        6.79335026e-01, -8.22417086e-03,  7.36838433e-01,  9.08857773e-01,\n",
       "       -5.78562589e-01, -5.03108767e-01, -6.70650963e-01,  5.58668971e-01,\n",
       "        4.24682541e-01,  1.17353520e-01, -1.36617374e+00, -2.26632756e-01,\n",
       "        1.14910099e+00, -1.65793704e+00,  2.81343778e-01, -1.24601656e+00,\n",
       "       -3.83381347e-01, -6.68126771e-02, -2.48974525e-01, -2.48180856e+00,\n",
       "        4.21917248e-01,  6.18361973e-01, -1.21342287e+00, -1.23135751e-01,\n",
       "       -7.33522010e-01,  3.04225692e-01, -2.27320967e-01,  7.04455879e-02,\n",
       "       -3.03145065e-01, -4.28532880e-02,  2.65516404e-02, -1.10526958e+00,\n",
       "       -9.71437685e-01, -3.63853782e-01, -2.38738051e-01, -1.07315436e+00,\n",
       "        5.73647281e-01,  3.34662253e-01,  6.66472299e-01, -6.74514449e-02,\n",
       "       -7.52566882e-01, -7.92859776e-01,  4.72966634e-01,  6.77963413e-01,\n",
       "        1.95676249e+00, -6.18992451e-01, -3.85552570e-01,  1.27239890e-01,\n",
       "       -8.46648776e-01,  1.57322962e+00, -7.44012561e-02,  3.49884113e-01,\n",
       "       -9.08217037e-01,  1.75749361e+00,  5.72615854e-01,  1.72723616e+00,\n",
       "       -8.03444233e-01, -1.35431992e+00, -2.14490206e-02,  2.83920291e-02,\n",
       "       -7.32469541e-01, -2.29305776e-01, -1.16253754e+00,  7.18107310e-01,\n",
       "       -6.61201308e-01,  6.03632167e-01, -4.13691269e-01, -2.51322325e-01,\n",
       "        4.41664135e-01,  9.35723512e-02,  7.39332179e-01,  1.92428204e+00,\n",
       "       -1.82528875e+00,  6.53521483e-01,  2.05845174e+00, -1.73065931e+00,\n",
       "        8.73788419e-01, -1.14425818e+00,  2.70064832e-01, -1.60001194e+00,\n",
       "       -9.88163519e-01,  9.87888197e-01, -1.21850240e+00, -3.47764938e-01,\n",
       "       -1.38655933e+00, -1.70663405e+00, -1.32643287e+00,  2.46742411e-01,\n",
       "       -1.59843804e+00,  1.73533186e-01,  2.71127085e-01,  1.07432488e+00,\n",
       "       -1.75140328e+00,  5.49062427e-02, -1.29681240e+00,  7.92083758e-01,\n",
       "        1.94664966e+00,  4.32261508e-02, -6.15562629e-01,  1.31508897e+00,\n",
       "       -7.22444987e-01, -3.54024952e-01,  1.37424050e+00,  2.22675966e+00,\n",
       "        3.87340249e-01,  9.02030000e-01,  5.05169603e-01,  1.47483243e-01,\n",
       "        3.84084126e-01,  8.52856213e-01,  4.24928596e-01,  1.42228283e+00,\n",
       "        1.43167035e+00,  1.23101140e+00, -6.18847995e-01,  1.30034432e+00,\n",
       "       -8.00357978e-01,  7.27021222e-01, -1.52091028e+00,  9.53755403e-01,\n",
       "        1.51766957e+00,  1.97537992e+00,  1.01017705e+00,  7.82382388e-01,\n",
       "        4.60212803e-01, -3.79454163e-01,  1.45003540e+00, -5.87717120e-01,\n",
       "       -1.27613520e+00, -1.55383512e+00,  9.27213740e-01, -9.36969076e-01,\n",
       "        1.00414844e+00, -5.63686170e-01,  1.58971845e-01,  4.60443849e-01,\n",
       "       -2.32566030e-01,  3.93902091e-02,  1.49221168e+00,  1.31698260e+00,\n",
       "       -1.44692935e-01, -1.58415284e+00,  1.12966830e-01, -1.65936162e-01,\n",
       "       -4.85064825e-03, -5.21023962e-01,  1.91135314e+00,  6.91090970e-01,\n",
       "       -1.83028412e+00,  1.22257392e+00,  1.15069224e+00,  1.14363041e+00,\n",
       "        9.91767818e-01,  1.18882494e+00,  8.17137020e-01,  4.00078520e-01,\n",
       "       -2.18627258e-01, -8.90097736e-01, -1.82691842e+00,  4.10027797e-01,\n",
       "        4.47901813e-01, -1.13069944e+00,  3.74405066e-01, -4.91790059e-01,\n",
       "       -2.81080839e-01, -6.65027032e-01, -1.51759447e+00, -5.51326797e-01,\n",
       "        7.98406313e-01, -1.28737163e+00,  3.43967154e-01,  8.85591219e-01,\n",
       "       -1.15180868e+00, -4.56929175e-01, -3.67514919e-03,  2.28509708e+00,\n",
       "        8.61686584e-01, -8.57036852e-01,  8.03096175e-01, -8.04853148e-02,\n",
       "        1.18234607e-01,  2.34650710e-01, -2.17306217e+00,  8.78655895e-01,\n",
       "        1.02792313e+00,  7.00685730e-01, -1.00415396e+00,  1.44407958e-01,\n",
       "       -1.63047250e-01,  5.43779195e-01, -4.56711675e-01,  1.22448432e+00,\n",
       "       -3.43121444e-01,  2.23312438e-01,  4.32174655e-01,  1.15820910e-01,\n",
       "        7.37018699e-01,  2.42097899e-01,  2.16100221e+00, -6.37546654e-01,\n",
       "        7.10537445e-01, -7.25556927e-02, -1.95427039e+00,  8.21489518e-01,\n",
       "       -1.67792171e+00,  3.64093442e-02,  1.63137323e+00, -1.04258547e+00,\n",
       "        6.65095902e-02, -4.19260206e-01,  6.61053530e-01, -1.96713561e-01,\n",
       "        1.88136371e-01, -1.33338559e-02, -4.95234165e-01,  6.60741407e-01,\n",
       "        5.51677187e-01, -3.41564652e-01,  1.57050092e+00, -2.70191245e-01,\n",
       "       -1.14156286e-01, -1.32841230e-01, -4.29522951e-01, -8.54847998e-01,\n",
       "        4.19038966e-01, -5.00117061e-01, -7.55867486e-01,  3.40551425e+00,\n",
       "       -1.79468287e+00,  5.52547936e-01, -1.47630696e-01, -3.03399839e-01,\n",
       "       -6.69122817e-01, -1.55432012e+00,  1.87806820e+00, -3.40513793e-05,\n",
       "        6.70391032e-02,  1.53989648e+00, -8.68554670e-01, -1.34732189e+00,\n",
       "       -1.00769240e+00, -2.38049086e+00, -1.13337666e+00,  2.19841730e-01,\n",
       "        9.99810822e-01, -9.06289698e-01, -2.23118787e-01,  1.12790544e+00,\n",
       "        5.33307976e-01,  8.22037481e-01, -3.05462398e-01, -8.63207264e-01,\n",
       "       -2.49453352e-02,  4.54455150e-01, -2.12966835e+00, -2.41268214e-01])"
      ]
     },
     "execution_count": 122,
     "metadata": {},
     "output_type": "execute_result"
    }
   ],
   "source": [
    "large_arr = np.random.randn(1000)\n",
    "large_arr"
   ]
  },
  {
   "cell_type": "code",
   "execution_count": 123,
   "metadata": {},
   "outputs": [],
   "source": [
    "large_arr.sort()"
   ]
  },
  {
   "cell_type": "code",
   "execution_count": 124,
   "metadata": {},
   "outputs": [
    {
     "data": {
      "text/plain": [
       "-1.6311498192426963"
      ]
     },
     "execution_count": 124,
     "metadata": {},
     "output_type": "execute_result"
    }
   ],
   "source": [
    "large_arr[int(0.05*len(large_arr))] # 5% quantile "
   ]
  },
  {
   "cell_type": "markdown",
   "metadata": {},
   "source": [
    "### Unique and Other Set Logic\n",
    "NumPy has some basic set operations for one-dimensional ndarrays. A commonly used one is np.unique, which returns the sorted unique values in an array:"
   ]
  },
  {
   "cell_type": "code",
   "execution_count": 125,
   "metadata": {},
   "outputs": [],
   "source": [
    "names = np.array(['Bob', 'Joe', 'Will', 'Bob', 'Will', 'Joe', 'Joe'])"
   ]
  },
  {
   "cell_type": "code",
   "execution_count": 126,
   "metadata": {},
   "outputs": [
    {
     "data": {
      "text/plain": [
       "array(['Bob', 'Joe', 'Will'], dtype='<U4')"
      ]
     },
     "execution_count": 126,
     "metadata": {},
     "output_type": "execute_result"
    }
   ],
   "source": [
    "np.unique(names) # Returns unique values of names"
   ]
  },
  {
   "cell_type": "code",
   "execution_count": 127,
   "metadata": {},
   "outputs": [
    {
     "data": {
      "text/plain": [
       "['Bob', 'Joe', 'Will']"
      ]
     },
     "execution_count": 127,
     "metadata": {},
     "output_type": "execute_result"
    }
   ],
   "source": [
    "sorted(set(names)) # As you know sets contains distinct/Unique value"
   ]
  },
  {
   "cell_type": "code",
   "execution_count": 128,
   "metadata": {},
   "outputs": [
    {
     "data": {
      "text/plain": [
       "array([False,  True, False, False, False,  True,  True])"
      ]
     },
     "execution_count": 128,
     "metadata": {},
     "output_type": "execute_result"
    }
   ],
   "source": [
    "np.in1d(names,['Joe']) # Finds and Returns value in names which contains Joe"
   ]
  },
  {
   "attachments": {
    "image.png": {
     "image/png": "[encoded data removed]"
    }
   },
   "cell_type": "markdown",
   "metadata": {},
   "source": [
    "![image.png](attachment:image.png)"
   ]
  },
  {
   "cell_type": "markdown",
   "metadata": {},
   "source": [
    "### Fine Inputs/Outputs with Arrays\n",
    "As it important to understand this - most users - pandas -landing tabular data \n"
   ]
  },
  {
   "cell_type": "code",
   "execution_count": 129,
   "metadata": {},
   "outputs": [],
   "source": [
    "arr = np.arange(10)"
   ]
  },
  {
   "cell_type": "code",
   "execution_count": 130,
   "metadata": {},
   "outputs": [],
   "source": [
    "np.save('my_array',arr) # Saves arr in my_array"
   ]
  },
  {
   "cell_type": "code",
   "execution_count": 131,
   "metadata": {},
   "outputs": [
    {
     "data": {
      "text/plain": [
       "array([0, 1, 2, 3, 4, 5, 6, 7, 8, 9])"
      ]
     },
     "execution_count": 131,
     "metadata": {},
     "output_type": "execute_result"
    }
   ],
   "source": [
    "np.load('my_array.npy') # As you can see the format of the file stored is npy, it is not mandatory to append the file extension \n"
   ]
  },
  {
   "cell_type": "code",
   "execution_count": 132,
   "metadata": {},
   "outputs": [],
   "source": [
    "# Storing multiple arrays in a uncompressed archive\n",
    "np.savez('My_bigger_array',a= arr,b =arr)"
   ]
  },
  {
   "cell_type": "code",
   "execution_count": 133,
   "metadata": {},
   "outputs": [
    {
     "data": {
      "text/plain": [
       "array([0, 1, 2, 3, 4, 5, 6, 7, 8, 9])"
      ]
     },
     "execution_count": 133,
     "metadata": {},
     "output_type": "execute_result"
    }
   ],
   "source": [
    "archive = np.load('My_bigger_array.npz')\n",
    "archive['b']"
   ]
  },
  {
   "cell_type": "code",
   "execution_count": 134,
   "metadata": {},
   "outputs": [
    {
     "data": {
      "text/plain": [
       "array([[ 28.,  64.],\n",
       "       [ 67., 181.]])"
      ]
     },
     "execution_count": 134,
     "metadata": {},
     "output_type": "execute_result"
    }
   ],
   "source": [
    "# Linear Algebra \n",
    "x = np.array([[1., 2., 3.], [4., 5., 6.]])\n",
    "y = np.array([[6., 23.], [-1, 7], [8, 9]])\n",
    "x.dot(y) #or by np.dot(x,y)"
   ]
  },
  {
   "cell_type": "code",
   "execution_count": 135,
   "metadata": {},
   "outputs": [
    {
     "data": {
      "text/plain": [
       "array([[ 98., 127., 156.],\n",
       "       [ 27.,  33.,  39.],\n",
       "       [ 44.,  61.,  78.]])"
      ]
     },
     "execution_count": 135,
     "metadata": {},
     "output_type": "execute_result"
    }
   ],
   "source": [
    "y.dot(x) # or by np.dot(y,x)"
   ]
  },
  {
   "cell_type": "code",
   "execution_count": 136,
   "metadata": {},
   "outputs": [],
   "source": [
    "z = np.ones(3)"
   ]
  },
  {
   "cell_type": "code",
   "execution_count": 137,
   "metadata": {},
   "outputs": [
    {
     "data": {
      "text/plain": [
       "(2,)"
      ]
     },
     "execution_count": 137,
     "metadata": {},
     "output_type": "execute_result"
    }
   ],
   "source": [
    "# Lets multiply 2D matrix with a 1D matrix \n",
    "np.dot(x,z).shape"
   ]
  },
  {
   "cell_type": "code",
   "execution_count": 138,
   "metadata": {},
   "outputs": [
    {
     "data": {
      "text/plain": [
       "array([ 6., 15.])"
      ]
     },
     "execution_count": 138,
     "metadata": {},
     "output_type": "execute_result"
    }
   ],
   "source": [
    "# You can use @ as an infix to multiply matrices\n",
    "x@z"
   ]
  },
  {
   "cell_type": "markdown",
   "metadata": {},
   "source": [
    "The is a standard library linalg to do more complex linear algebra used in MATLAB and R"
   ]
  },
  {
   "cell_type": "code",
   "execution_count": 139,
   "metadata": {},
   "outputs": [
    {
     "data": {
      "text/plain": [
       "array([[  629363.645,  -238435.088,   970799.041,  -746455.95 ,\n",
       "          194662.235],\n",
       "       [ -238435.088,    90331.654,  -367788.351,   282795.479,\n",
       "          -73747.955],\n",
       "       [  970799.041,  -367788.351,  1497467.147, -1151415.217,\n",
       "          300268.183],\n",
       "       [ -746455.95 ,   282795.479, -1151415.217,   885334.277,\n",
       "         -230879.296],\n",
       "       [  194662.235,   -73747.955,   300268.183,  -230879.296,\n",
       "           60209.306]])"
      ]
     },
     "execution_count": 139,
     "metadata": {},
     "output_type": "execute_result"
    }
   ],
   "source": [
    "from numpy.linalg import inv,qr\n",
    "x = np.random.randn(5,5)\n",
    "mat = x.T@x # x transverse mutliplied with x\n",
    "s = inv(mat)\n",
    "np.around(s,3) # around rounds upto 3 decimals"
   ]
  },
  {
   "cell_type": "code",
   "execution_count": 140,
   "metadata": {},
   "outputs": [
    {
     "data": {
      "text/plain": [
       "array([[ 1., -0.,  0.,  0.,  0.],\n",
       "       [-0.,  1., -0.,  0.,  0.],\n",
       "       [ 0.,  0.,  1., -0.,  0.],\n",
       "       [ 0., -0.,  0.,  1.,  0.],\n",
       "       [ 0., -0.,  0., -0.,  1.]])"
      ]
     },
     "execution_count": 140,
     "metadata": {},
     "output_type": "execute_result"
    }
   ],
   "source": [
    "np.around(mat@s,5)"
   ]
  },
  {
   "cell_type": "code",
   "execution_count": 141,
   "metadata": {},
   "outputs": [],
   "source": [
    "q, r = qr(mat)"
   ]
  },
  {
   "cell_type": "code",
   "execution_count": 142,
   "metadata": {},
   "outputs": [
    {
     "data": {
      "text/plain": [
       "array([[-4.20962, -2.71925,  1.221  , -0.90705,  0.712  ],\n",
       "       [ 0.     , -4.64606, -2.49838, -3.63125, -7.15559],\n",
       "       [ 0.     ,  0.     , -1.35424, -3.90583, -8.22366],\n",
       "       [ 0.     ,  0.     ,  0.     ,  1.19553,  4.58441],\n",
       "       [ 0.     ,  0.     ,  0.     ,  0.     , -0.     ]])"
      ]
     },
     "execution_count": 142,
     "metadata": {},
     "output_type": "execute_result"
    }
   ],
   "source": [
    "np.around(r,5)"
   ]
  },
  {
   "attachments": {
    "image.png": {
     "image/png": "[encoded data removed]"
    }
   },
   "cell_type": "markdown",
   "metadata": {},
   "source": [
    "![image.png](attachment:image.png)\n",
    "![image.png](attachment:image.png)"
   ]
  },
  {
   "cell_type": "markdown",
   "metadata": {},
   "source": [
    "Lets do an example\n",
    "The simulation of Random walks which utilizes the array operation.\n",
    "Its a simple random walk starting 0 and increases by 1 steps \n"
   ]
  },
  {
   "cell_type": "code",
   "execution_count": 143,
   "metadata": {
    "scrolled": true
   },
   "outputs": [
    {
     "data": {
      "text/plain": [
       "[<matplotlib.lines.Line2D at 0x1375def6b88>]"
      ]
     },
     "execution_count": 143,
     "metadata": {},
     "output_type": "execute_result"
    },
    {
     "data": {
      "image/png": "[encoded data removed]",
      "text/plain": [
       "<Figure size 432x288 with 1 Axes>"
      ]
     },
     "metadata": {
      "needs_background": "light"
     },
     "output_type": "display_data"
    }
   ],
   "source": [
    "import random\n",
    "postion = 0 \n",
    "walk = [postion]\n",
    "steps = 10000\n",
    "for i in range(steps):\n",
    "    step  = 1 if random.randint(0,1) else -1 #randomly gives a 0 or 1\n",
    "    postion += step\n",
    "    walk.append(postion)\n",
    "# lets plot the walks\n",
    "plt.plot(walk[:100]) # Every time its different\n",
    "    "
   ]
  },
  {
   "cell_type": "code",
   "execution_count": 144,
   "metadata": {},
   "outputs": [],
   "source": [
    "nsteps = 1000\n",
    "draws = np.random.randint(0,2,size = nsteps)\n",
    "steps = np.where(draws > 0, 1,-1)\n",
    "walk = steps.cumsum()"
   ]
  },
  {
   "cell_type": "code",
   "execution_count": 145,
   "metadata": {},
   "outputs": [
    {
     "data": {
      "text/plain": [
       "34"
      ]
     },
     "execution_count": 145,
     "metadata": {},
     "output_type": "execute_result"
    }
   ],
   "source": [
    "walk.max()"
   ]
  },
  {
   "cell_type": "code",
   "execution_count": 146,
   "metadata": {},
   "outputs": [
    {
     "data": {
      "text/plain": [
       "-25"
      ]
     },
     "execution_count": 146,
     "metadata": {},
     "output_type": "execute_result"
    }
   ],
   "source": [
    "walk.min()"
   ]
  },
  {
   "cell_type": "code",
   "execution_count": 147,
   "metadata": {},
   "outputs": [
    {
     "data": {
      "text/plain": [
       "array([-0.87626579,  1.88142887,  1.06732878,  0.30332443, -2.3431756 ,\n",
       "       -1.41018334, -0.47608349, -1.36920276,  0.82631956, -0.94804602])"
      ]
     },
     "execution_count": 147,
     "metadata": {},
     "output_type": "execute_result"
    }
   ],
   "source": [
    "np.random.randn(10)"
   ]
  },
  {
   "cell_type": "code",
   "execution_count": 148,
   "metadata": {},
   "outputs": [],
   "source": [
    "# Random walks for coin toss\n",
    "nwalks = 5000\n",
    "nsteps = 1000\n",
    "draws = np.random.randint(0,2,size =(nwalks,nsteps))\n",
    "steps = np.where(draws >0, 1,-1)\n",
    "walks = steps.cumsum(1)"
   ]
  },
  {
   "cell_type": "code",
   "execution_count": 149,
   "metadata": {},
   "outputs": [
    {
     "data": {
      "text/plain": [
       "array([[  1,   2,   1, ...,  -2,  -1,   0],\n",
       "       [ -1,   0,  -1, ..., -32, -33, -32],\n",
       "       [ -1,   0,   1, ..., -12, -13, -14],\n",
       "       ...,\n",
       "       [  1,   0,   1, ..., -34, -33, -34],\n",
       "       [  1,   2,   3, ...,   4,   5,   6],\n",
       "       [  1,   0,   1, ...,  20,  19,  18]], dtype=int32)"
      ]
     },
     "execution_count": 149,
     "metadata": {},
     "output_type": "execute_result"
    }
   ],
   "source": [
    "walks"
   ]
  },
  {
   "cell_type": "code",
   "execution_count": 150,
   "metadata": {},
   "outputs": [
    {
     "data": {
      "text/plain": [
       "125"
      ]
     },
     "execution_count": 150,
     "metadata": {},
     "output_type": "execute_result"
    }
   ],
   "source": [
    "walks.max()"
   ]
  },
  {
   "cell_type": "code",
   "execution_count": 151,
   "metadata": {},
   "outputs": [
    {
     "data": {
      "text/plain": [
       "-126"
      ]
     },
     "execution_count": 151,
     "metadata": {},
     "output_type": "execute_result"
    }
   ],
   "source": [
    "walks.min()"
   ]
  },
  {
   "cell_type": "code",
   "execution_count": 152,
   "metadata": {},
   "outputs": [],
   "source": [
    "hits_30 = (np.abs(walks)>=30 ).any(1)"
   ]
  },
  {
   "cell_type": "code",
   "execution_count": 153,
   "metadata": {},
   "outputs": [
    {
     "data": {
      "text/plain": [
       "array([False,  True, False, ...,  True, False, False])"
      ]
     },
     "execution_count": 153,
     "metadata": {},
     "output_type": "execute_result"
    }
   ],
   "source": [
    "hits_30"
   ]
  },
  {
   "cell_type": "code",
   "execution_count": 154,
   "metadata": {},
   "outputs": [
    {
     "data": {
      "text/plain": [
       "3385"
      ]
     },
     "execution_count": 154,
     "metadata": {},
     "output_type": "execute_result"
    }
   ],
   "source": [
    "hits_30.sum() # Sum of hit of absolute 30"
   ]
  },
  {
   "cell_type": "code",
   "execution_count": 155,
   "metadata": {},
   "outputs": [
    {
     "data": {
      "text/plain": [
       "498.82333825701625"
      ]
     },
     "execution_count": 155,
     "metadata": {},
     "output_type": "execute_result"
    }
   ],
   "source": [
    "# Crossing times\n",
    "crossing_times = (np.abs(walks[hits_30])>=30).argmax(1)\n",
    "crossing_times.mean()"
   ]
  }
 ],
 "metadata": {
  "kernelspec": {
   "display_name": "Python 3",
   "language": "python",
   "name": "python3"
  },
  "language_info": {
   "codemirror_mode": {
    "name": "ipython",
    "version": 3
   },
   "file_extension": ".py",
   "mimetype": "text/x-python",
   "name": "python",
   "nbconvert_exporter": "python",
   "pygments_lexer": "ipython3",
   "version": "3.7.6"
  }
 },
 "nbformat": 4,
 "nbformat_minor": 4
}
